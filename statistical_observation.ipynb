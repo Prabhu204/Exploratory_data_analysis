{
 "cells": [
  {
   "cell_type": "code",
   "execution_count": 1,
   "metadata": {},
   "outputs": [],
   "source": [
    "import numpy as np\n",
    "import pandas as pd\n",
    "import sklearn as sk\n",
    "import seaborn as sns\n",
    "import matplotlib.pyplot as plt\n",
    "import warnings\n",
    "warnings.filterwarnings(\"ignore\")\n",
    "from sklearn import metrics"
   ]
  },
  {
   "cell_type": "code",
   "execution_count": 2,
   "metadata": {},
   "outputs": [],
   "source": [
    "from sklearn.tree import DecisionTreeClassifier"
   ]
  },
  {
   "cell_type": "code",
   "execution_count": 3,
   "metadata": {},
   "outputs": [],
   "source": [
    "traindata = pd.read_csv('data/train.csv')\n",
    "testdata = pd.read_csv('data/test.csv')"
   ]
  },
  {
   "cell_type": "code",
   "execution_count": 4,
   "metadata": {},
   "outputs": [
    {
     "data": {
      "text/html": [
       "<div>\n",
       "<style scoped>\n",
       "    .dataframe tbody tr th:only-of-type {\n",
       "        vertical-align: middle;\n",
       "    }\n",
       "\n",
       "    .dataframe tbody tr th {\n",
       "        vertical-align: top;\n",
       "    }\n",
       "\n",
       "    .dataframe thead th {\n",
       "        text-align: right;\n",
       "    }\n",
       "</style>\n",
       "<table border=\"1\" class=\"dataframe\">\n",
       "  <thead>\n",
       "    <tr style=\"text-align: right;\">\n",
       "      <th></th>\n",
       "      <th>PassengerId</th>\n",
       "      <th>Survived</th>\n",
       "      <th>Pclass</th>\n",
       "      <th>Name</th>\n",
       "      <th>Sex</th>\n",
       "      <th>Age</th>\n",
       "      <th>SibSp</th>\n",
       "      <th>Parch</th>\n",
       "      <th>Ticket</th>\n",
       "      <th>Fare</th>\n",
       "      <th>Cabin</th>\n",
       "      <th>Embarked</th>\n",
       "    </tr>\n",
       "  </thead>\n",
       "  <tbody>\n",
       "    <tr>\n",
       "      <td>0</td>\n",
       "      <td>1</td>\n",
       "      <td>0</td>\n",
       "      <td>3</td>\n",
       "      <td>Braund, Mr. Owen Harris</td>\n",
       "      <td>male</td>\n",
       "      <td>22.0</td>\n",
       "      <td>1</td>\n",
       "      <td>0</td>\n",
       "      <td>A/5 21171</td>\n",
       "      <td>7.2500</td>\n",
       "      <td>NaN</td>\n",
       "      <td>S</td>\n",
       "    </tr>\n",
       "    <tr>\n",
       "      <td>1</td>\n",
       "      <td>2</td>\n",
       "      <td>1</td>\n",
       "      <td>1</td>\n",
       "      <td>Cumings, Mrs. John Bradley (Florence Briggs Th...</td>\n",
       "      <td>female</td>\n",
       "      <td>38.0</td>\n",
       "      <td>1</td>\n",
       "      <td>0</td>\n",
       "      <td>PC 17599</td>\n",
       "      <td>71.2833</td>\n",
       "      <td>C85</td>\n",
       "      <td>C</td>\n",
       "    </tr>\n",
       "    <tr>\n",
       "      <td>2</td>\n",
       "      <td>3</td>\n",
       "      <td>1</td>\n",
       "      <td>3</td>\n",
       "      <td>Heikkinen, Miss. Laina</td>\n",
       "      <td>female</td>\n",
       "      <td>26.0</td>\n",
       "      <td>0</td>\n",
       "      <td>0</td>\n",
       "      <td>STON/O2. 3101282</td>\n",
       "      <td>7.9250</td>\n",
       "      <td>NaN</td>\n",
       "      <td>S</td>\n",
       "    </tr>\n",
       "    <tr>\n",
       "      <td>3</td>\n",
       "      <td>4</td>\n",
       "      <td>1</td>\n",
       "      <td>1</td>\n",
       "      <td>Futrelle, Mrs. Jacques Heath (Lily May Peel)</td>\n",
       "      <td>female</td>\n",
       "      <td>35.0</td>\n",
       "      <td>1</td>\n",
       "      <td>0</td>\n",
       "      <td>113803</td>\n",
       "      <td>53.1000</td>\n",
       "      <td>C123</td>\n",
       "      <td>S</td>\n",
       "    </tr>\n",
       "    <tr>\n",
       "      <td>4</td>\n",
       "      <td>5</td>\n",
       "      <td>0</td>\n",
       "      <td>3</td>\n",
       "      <td>Allen, Mr. William Henry</td>\n",
       "      <td>male</td>\n",
       "      <td>35.0</td>\n",
       "      <td>0</td>\n",
       "      <td>0</td>\n",
       "      <td>373450</td>\n",
       "      <td>8.0500</td>\n",
       "      <td>NaN</td>\n",
       "      <td>S</td>\n",
       "    </tr>\n",
       "  </tbody>\n",
       "</table>\n",
       "</div>"
      ],
      "text/plain": [
       "   PassengerId  Survived  Pclass  \\\n",
       "0            1         0       3   \n",
       "1            2         1       1   \n",
       "2            3         1       3   \n",
       "3            4         1       1   \n",
       "4            5         0       3   \n",
       "\n",
       "                                                Name     Sex   Age  SibSp  \\\n",
       "0                            Braund, Mr. Owen Harris    male  22.0      1   \n",
       "1  Cumings, Mrs. John Bradley (Florence Briggs Th...  female  38.0      1   \n",
       "2                             Heikkinen, Miss. Laina  female  26.0      0   \n",
       "3       Futrelle, Mrs. Jacques Heath (Lily May Peel)  female  35.0      1   \n",
       "4                           Allen, Mr. William Henry    male  35.0      0   \n",
       "\n",
       "   Parch            Ticket     Fare Cabin Embarked  \n",
       "0      0         A/5 21171   7.2500   NaN        S  \n",
       "1      0          PC 17599  71.2833   C85        C  \n",
       "2      0  STON/O2. 3101282   7.9250   NaN        S  \n",
       "3      0            113803  53.1000  C123        S  \n",
       "4      0            373450   8.0500   NaN        S  "
      ]
     },
     "execution_count": 4,
     "metadata": {},
     "output_type": "execute_result"
    }
   ],
   "source": [
    "traindata.head()"
   ]
  },
  {
   "cell_type": "code",
   "execution_count": 5,
   "metadata": {},
   "outputs": [
    {
     "data": {
      "text/html": [
       "<div>\n",
       "<style scoped>\n",
       "    .dataframe tbody tr th:only-of-type {\n",
       "        vertical-align: middle;\n",
       "    }\n",
       "\n",
       "    .dataframe tbody tr th {\n",
       "        vertical-align: top;\n",
       "    }\n",
       "\n",
       "    .dataframe thead th {\n",
       "        text-align: right;\n",
       "    }\n",
       "</style>\n",
       "<table border=\"1\" class=\"dataframe\">\n",
       "  <thead>\n",
       "    <tr style=\"text-align: right;\">\n",
       "      <th></th>\n",
       "      <th>PassengerId</th>\n",
       "      <th>Pclass</th>\n",
       "      <th>Name</th>\n",
       "      <th>Sex</th>\n",
       "      <th>Age</th>\n",
       "      <th>SibSp</th>\n",
       "      <th>Parch</th>\n",
       "      <th>Ticket</th>\n",
       "      <th>Fare</th>\n",
       "      <th>Cabin</th>\n",
       "      <th>Embarked</th>\n",
       "    </tr>\n",
       "  </thead>\n",
       "  <tbody>\n",
       "    <tr>\n",
       "      <td>0</td>\n",
       "      <td>892</td>\n",
       "      <td>3</td>\n",
       "      <td>Kelly, Mr. James</td>\n",
       "      <td>male</td>\n",
       "      <td>34.5</td>\n",
       "      <td>0</td>\n",
       "      <td>0</td>\n",
       "      <td>330911</td>\n",
       "      <td>7.8292</td>\n",
       "      <td>NaN</td>\n",
       "      <td>Q</td>\n",
       "    </tr>\n",
       "    <tr>\n",
       "      <td>1</td>\n",
       "      <td>893</td>\n",
       "      <td>3</td>\n",
       "      <td>Wilkes, Mrs. James (Ellen Needs)</td>\n",
       "      <td>female</td>\n",
       "      <td>47.0</td>\n",
       "      <td>1</td>\n",
       "      <td>0</td>\n",
       "      <td>363272</td>\n",
       "      <td>7.0000</td>\n",
       "      <td>NaN</td>\n",
       "      <td>S</td>\n",
       "    </tr>\n",
       "    <tr>\n",
       "      <td>2</td>\n",
       "      <td>894</td>\n",
       "      <td>2</td>\n",
       "      <td>Myles, Mr. Thomas Francis</td>\n",
       "      <td>male</td>\n",
       "      <td>62.0</td>\n",
       "      <td>0</td>\n",
       "      <td>0</td>\n",
       "      <td>240276</td>\n",
       "      <td>9.6875</td>\n",
       "      <td>NaN</td>\n",
       "      <td>Q</td>\n",
       "    </tr>\n",
       "    <tr>\n",
       "      <td>3</td>\n",
       "      <td>895</td>\n",
       "      <td>3</td>\n",
       "      <td>Wirz, Mr. Albert</td>\n",
       "      <td>male</td>\n",
       "      <td>27.0</td>\n",
       "      <td>0</td>\n",
       "      <td>0</td>\n",
       "      <td>315154</td>\n",
       "      <td>8.6625</td>\n",
       "      <td>NaN</td>\n",
       "      <td>S</td>\n",
       "    </tr>\n",
       "    <tr>\n",
       "      <td>4</td>\n",
       "      <td>896</td>\n",
       "      <td>3</td>\n",
       "      <td>Hirvonen, Mrs. Alexander (Helga E Lindqvist)</td>\n",
       "      <td>female</td>\n",
       "      <td>22.0</td>\n",
       "      <td>1</td>\n",
       "      <td>1</td>\n",
       "      <td>3101298</td>\n",
       "      <td>12.2875</td>\n",
       "      <td>NaN</td>\n",
       "      <td>S</td>\n",
       "    </tr>\n",
       "  </tbody>\n",
       "</table>\n",
       "</div>"
      ],
      "text/plain": [
       "   PassengerId  Pclass                                          Name     Sex  \\\n",
       "0          892       3                              Kelly, Mr. James    male   \n",
       "1          893       3              Wilkes, Mrs. James (Ellen Needs)  female   \n",
       "2          894       2                     Myles, Mr. Thomas Francis    male   \n",
       "3          895       3                              Wirz, Mr. Albert    male   \n",
       "4          896       3  Hirvonen, Mrs. Alexander (Helga E Lindqvist)  female   \n",
       "\n",
       "    Age  SibSp  Parch   Ticket     Fare Cabin Embarked  \n",
       "0  34.5      0      0   330911   7.8292   NaN        Q  \n",
       "1  47.0      1      0   363272   7.0000   NaN        S  \n",
       "2  62.0      0      0   240276   9.6875   NaN        Q  \n",
       "3  27.0      0      0   315154   8.6625   NaN        S  \n",
       "4  22.0      1      1  3101298  12.2875   NaN        S  "
      ]
     },
     "execution_count": 5,
     "metadata": {},
     "output_type": "execute_result"
    }
   ],
   "source": [
    "testdata.head()"
   ]
  },
  {
   "cell_type": "markdown",
   "metadata": {},
   "source": [
    "## Dataset features description\n",
    "\n",
    "<b>PassengerId</b> Unique Id of a passenger. \n",
    "\n",
    "<b>Survived</b> Survival of a person 0 = No, 1 = Yes \n",
    "\n",
    "<b>Pclass</b> Passenger class Ticket class 1 = 1st(Upper), 2 = 2nd(Middle), 3 = 3rd(Lower)\n",
    "\n",
    "<b>Sex</b> is a gender of the person \n",
    "\n",
    "<b>Age</b> in years \n",
    "\n",
    "<b>SibSp</b> # of siblings(brother, sister, stepbrother, stepsister) / spouses(husband, wife) aboard the Titanic\n",
    "\n",
    "<b>Parch</b> # of parents(mother, father) / children(daughter, son, stepdaughter, stepson) aboard the Titanic: Some children travelled only with a nanny, therefore parch=0 for them. \n",
    "\n",
    "<b>Ticket</b> Ticket number \n",
    "\n",
    "<b>Fare</b> Passenger fare \n",
    "\n",
    "<b>Cabin</b> Cabin number \n",
    "\n",
    "<b>Embarked</b> Port of Embarkation C = Cherbourg, Q = Queenstown, S = Southampton"
   ]
  },
  {
   "cell_type": "markdown",
   "metadata": {},
   "source": [
    "# 1. Data preprocessing\n",
    "\n",
    "Data preprocessing composed of \n",
    "\n",
    "* Converting data into single datatype format\n",
    "* Treating missing data\n",
    "* Correction of the data such as identifying outliers\n",
    "* Feature transformation i.e creating a new feature by using one or more features. \n",
    "    \n",
    "By following these steps, will enhance the predictive capability of the model. Moreover, some of the algorithms may not work if they encounter missing values in the data or if the input data is not in one data format.\n",
    "\n",
    "<br>\n",
    "Based on the data, we can notice that \n",
    "\n",
    "1. <b>Title</b> feature is a mix of numeric and alphanumeric data types. \n",
    "\n",
    "2. <b>Cabin</b> feature is alphanumeric.\n",
    "\n",
    "3. <b>Name</b> feature may contain errors or typos as there are several ways used to describe a name including titles, round brackets, and quotes used for alternative or short names.\n"
   ]
  },
  {
   "cell_type": "markdown",
   "metadata": {},
   "source": [
    "\n",
    "## 1.1 Identifying categorical features and numerical features in the dataset:\n",
    "\n",
    "Grouping of similar samples into sets considered as categorical features. <b>Nominal, ordinal, ratio, or interval</b> based types of features come categorical features.\n",
    "\n",
    "\n",
    "Numerical feature values change from sample to sample. <b>Discrete, continuous, or timeseries</b> based considered as numerical features.\n",
    "\n",
    "Based on a specific feature type helps us to select the appropriate plots for visualization."
   ]
  },
  {
   "cell_type": "markdown",
   "metadata": {},
   "source": [
    "#### Categorical: Survived, Sex, and Embarked. Ordinal: Pclass.\n",
    "\n",
    "#### Continous: Age, Fare. Discrete: SibSp, Parch."
   ]
  },
  {
   "cell_type": "markdown",
   "metadata": {},
   "source": [
    "# 2. Exploratory data analysis\n",
    "\n",
    "In statistics, exploratory data analysis is an approach to analyzing data sets to summarize their main characteristics, often with visual methods. A statistical model can be used or not, but primarily EDA is for seeing what the data can tell us beyond the formal modeling or hypothesis testing task. \n",
    "\n",
    "Used statical methods for <I>Titanic dataset</I> are:\n",
    "1. Mean: Average value of all data points\n",
    "2. Median is the \"middle\" value of a sorted data points.\n",
    "3. Mode: is the value that appears most often in data points\n",
    "4. Standard deviation: value would tell you how much the data points deviate from the mean value of its data points.\n",
    "5. Distribution plots: Helps us to understand the column values \n",
    "6. Regression: It helps to determine the relationship between one or more features to the dependent variable(target variable).\n",
    "\n",
    "Let's apply one or more methods for summarizing each column's characteristics."
   ]
  },
  {
   "cell_type": "code",
   "execution_count": 6,
   "metadata": {},
   "outputs": [
    {
     "name": "stdout",
     "output_type": "stream",
     "text": [
      "<class 'pandas.core.frame.DataFrame'>\n",
      "RangeIndex: 891 entries, 0 to 890\n",
      "Data columns (total 12 columns):\n",
      "PassengerId    891 non-null int64\n",
      "Survived       891 non-null int64\n",
      "Pclass         891 non-null int64\n",
      "Name           891 non-null object\n",
      "Sex            891 non-null object\n",
      "Age            714 non-null float64\n",
      "SibSp          891 non-null int64\n",
      "Parch          891 non-null int64\n",
      "Ticket         891 non-null object\n",
      "Fare           891 non-null float64\n",
      "Cabin          204 non-null object\n",
      "Embarked       889 non-null object\n",
      "dtypes: float64(2), int64(5), object(5)\n",
      "memory usage: 83.7+ KB\n",
      "*********************************\n",
      "From the above description Age, Cabin and Embarked columns have null values, these values have to be preprocessed.\n",
      "\n",
      "Seven features are integer/floats.\n",
      "\n",
      "Five features are strings (object).\n"
     ]
    }
   ],
   "source": [
    "traindata.info()\n",
    "print('*********************************')\n",
    "print('''From the above description Age, Cabin and Embarked columns have null values, these values have to be preprocessed.\\n\n",
    "Seven features are integer/floats.\\n\n",
    "Five features are strings (object).''')"
   ]
  },
  {
   "cell_type": "code",
   "execution_count": 7,
   "metadata": {},
   "outputs": [
    {
     "name": "stdout",
     "output_type": "stream",
     "text": [
      "<class 'pandas.core.frame.DataFrame'>\n",
      "RangeIndex: 418 entries, 0 to 417\n",
      "Data columns (total 11 columns):\n",
      "PassengerId    418 non-null int64\n",
      "Pclass         418 non-null int64\n",
      "Name           418 non-null object\n",
      "Sex            418 non-null object\n",
      "Age            332 non-null float64\n",
      "SibSp          418 non-null int64\n",
      "Parch          418 non-null int64\n",
      "Ticket         418 non-null object\n",
      "Fare           417 non-null float64\n",
      "Cabin          91 non-null object\n",
      "Embarked       418 non-null object\n",
      "dtypes: float64(2), int64(4), object(5)\n",
      "memory usage: 36.0+ KB\n",
      "*********************************\n",
      "From the above description Age, Cabin and Fare columns have null values, these values have to be preprocessed.\n",
      "\n",
      "Six are integer/floats.\n",
      "\n",
      "Five features are strings (object).\n"
     ]
    }
   ],
   "source": [
    "testdata.info()\n",
    "print('*********************************')\n",
    "print('''From the above description Age, Cabin and Fare columns have null values, these values have to be preprocessed.\\n\n",
    "Six are integer/floats.\\n\n",
    "Five features are strings (object).''')"
   ]
  },
  {
   "cell_type": "markdown",
   "metadata": {},
   "source": [
    "<br>\n",
    "Nevertheless, as per dataset description I can assume that <b>PassengerId</b>, <b>Cabin</b> and <b>Ticket</b> columns would not influence the the survial of a person. Hence, it would be better skip those and will also help us for easy analysis.  "
   ]
  },
  {
   "cell_type": "code",
   "execution_count": 8,
   "metadata": {},
   "outputs": [
    {
     "name": "stdout",
     "output_type": "stream",
     "text": [
      "Traindata shape before skipping :  (891, 12)\n",
      "Traindata shape after skipping data:  (891, 9)\n",
      "--------------------------------------------------\n",
      "Testdata shape before skipping :  (418, 11)\n",
      "Testdata shape after skipping data:  (418, 8)\n",
      "--------------------------------------------------\n"
     ]
    }
   ],
   "source": [
    "list_data = {'traindata':traindata, 'testdata':testdata}\n",
    "\n",
    "for name, data in list(list_data.items()):\n",
    "    print(f'{name.title()} shape before skipping : ', data.shape)\n",
    "    data.drop(['PassengerId','Ticket','Cabin'],inplace=True, axis=1)\n",
    "    print(f'{name.title()} shape after skipping data: ', data.shape)\n",
    "    print('-'*50)"
   ]
  },
  {
   "cell_type": "markdown",
   "metadata": {},
   "source": [
    "# 3. Statical analysis of each feature in the dataset"
   ]
  },
  {
   "cell_type": "markdown",
   "metadata": {},
   "source": [
    "## 3.1 Survived feature\n",
    "\n",
    "Since it is our target variable, it is important to know the distribution rate of the survived people in the data. If it has a  uniform distribution(i.e equal percentage) then we can build an unbiased predictive model. "
   ]
  },
  {
   "cell_type": "code",
   "execution_count": 9,
   "metadata": {},
   "outputs": [
    {
     "name": "stdout",
     "output_type": "stream",
     "text": [
      "549\n",
      "342\n"
     ]
    },
    {
     "data": {
      "image/png": "[encoded data removed]",
      "text/plain": [
       "<Figure size 432x288 with 1 Axes>"
      ]
     },
     "metadata": {
      "needs_background": "light"
     },
     "output_type": "display_data"
    }
   ],
   "source": [
    "ax = sns.countplot(x=\"Survived\", data=traindata)\n",
    "total = len(traindata['Survived'])\n",
    "for p in ax.patches:\n",
    "    print(p.get_height())\n",
    "    percentage = '{:.1f}%'.format(100 * p.get_height()/total)\n",
    "    x = p.get_x() + p.get_width()/2\n",
    "    y = p.get_y() + p.get_height() + 1.5\n",
    "    ax.annotate(percentage, (x, y))\n",
    "plt.show()"
   ]
  },
  {
   "cell_type": "markdown",
   "metadata": {},
   "source": [
    "The visualization shows that more than 20% of people have died compared to survived people. I assume that our predictive model may <b>estimate more sample under non-survived category(i.e biased)</b> especially for unseen data. Hence, it is a crucial step for choosing a model with a good performance based on any one of the following methods\n",
    "\n",
    "1. Collecting more samples to maintain class balance, of course, which is not possible right now.\n",
    "2. Choosing a correct metric to evaluate model such as \n",
    "    * Precision(A measure of a classifiers exactness)\n",
    "    * Recall(A measure of a classifiers completeness)\n",
    "    * Confusion Matrix(A breakdown of predictions into a table showing correct predictions)\n",
    "    * ROC Curves (Like precision and recall, accuracy is divided into sensitivity and specificity and models can be chosen based on the balance thresholds of these values.)\n",
    "3. over-sampling(Adding copies of instances from the under-represented class) or under-sampling (Delete instances from the over-represented class)"
   ]
  },
  {
   "cell_type": "markdown",
   "metadata": {},
   "source": [
    "## 3.2 Pclass feature\n",
    "\n",
    "#### How many people have survived or died according to passenger class?"
   ]
  },
  {
   "cell_type": "code",
   "execution_count": 10,
   "metadata": {},
   "outputs": [
    {
     "data": {
      "image/png": "[encoded data removed]",
      "text/plain": [
       "<Figure size 403.2x288 with 2 Axes>"
      ]
     },
     "metadata": {
      "needs_background": "light"
     },
     "output_type": "display_data"
    }
   ],
   "source": [
    "g = sns.catplot(x=\"Pclass\", hue=\"Pclass\", col=\"Survived\",\n",
    "                data=traindata, kind=\"count\",\n",
    "                height=4, aspect=.7);"
   ]
  },
  {
   "cell_type": "code",
   "execution_count": 11,
   "metadata": {},
   "outputs": [
    {
     "data": {
      "text/html": [
       "<div>\n",
       "<style scoped>\n",
       "    .dataframe tbody tr th:only-of-type {\n",
       "        vertical-align: middle;\n",
       "    }\n",
       "\n",
       "    .dataframe tbody tr th {\n",
       "        vertical-align: top;\n",
       "    }\n",
       "\n",
       "    .dataframe thead th {\n",
       "        text-align: right;\n",
       "    }\n",
       "</style>\n",
       "<table border=\"1\" class=\"dataframe\">\n",
       "  <thead>\n",
       "    <tr style=\"text-align: right;\">\n",
       "      <th></th>\n",
       "      <th>Pclass</th>\n",
       "      <th>Survived</th>\n",
       "    </tr>\n",
       "  </thead>\n",
       "  <tbody>\n",
       "    <tr>\n",
       "      <td>0</td>\n",
       "      <td>1</td>\n",
       "      <td>0.629630</td>\n",
       "    </tr>\n",
       "    <tr>\n",
       "      <td>1</td>\n",
       "      <td>2</td>\n",
       "      <td>0.472826</td>\n",
       "    </tr>\n",
       "    <tr>\n",
       "      <td>2</td>\n",
       "      <td>3</td>\n",
       "      <td>0.242363</td>\n",
       "    </tr>\n",
       "  </tbody>\n",
       "</table>\n",
       "</div>"
      ],
      "text/plain": [
       "   Pclass  Survived\n",
       "0       1  0.629630\n",
       "1       2  0.472826\n",
       "2       3  0.242363"
      ]
     },
     "execution_count": 11,
     "metadata": {},
     "output_type": "execute_result"
    }
   ],
   "source": [
    "traindata[['Pclass', 'Survived']].groupby(['Pclass'], as_index=False).mean().sort_values(by='Survived', ascending=False)\n",
    "# count_Pclass = pd.DataFrame(traindata.Pclass.value_counts()).to_dict()['Pclass']\n",
    "# print(count_Pclass)\n",
    "# survived_df[\"count_Pclass\"] = survived_df[\"Pclass\"].apply(lambda x: count_Pclass.get(x))\n",
    "# survived_df['per']= survived_df['Survived']/survived_df['count_Pclass']\n",
    "# survived_df"
   ]
  },
  {
   "cell_type": "markdown",
   "metadata": {},
   "source": [
    "From the above percentage scores, the higher the passenger class(1 means high class and 3 means low class), the higher the survival rate. "
   ]
  },
  {
   "cell_type": "markdown",
   "metadata": {},
   "source": [
    "## 3.3 Name feature\n",
    "\n",
    "Name column values are shown below. Generally, the names of people will not contribute any information to the survival rate. However, in the 19th century, people were given respect according to the title they have. Hence, by applying, the feature transformation will give their titles."
   ]
  },
  {
   "cell_type": "code",
   "execution_count": 12,
   "metadata": {},
   "outputs": [
    {
     "data": {
      "text/plain": [
       "0                                Braund, Mr. Owen Harris\n",
       "1      Cumings, Mrs. John Bradley (Florence Briggs Th...\n",
       "2                                 Heikkinen, Miss. Laina\n",
       "3           Futrelle, Mrs. Jacques Heath (Lily May Peel)\n",
       "4                               Allen, Mr. William Henry\n",
       "                             ...                        \n",
       "886                                Montvila, Rev. Juozas\n",
       "887                         Graham, Miss. Margaret Edith\n",
       "888             Johnston, Miss. Catherine Helen \"Carrie\"\n",
       "889                                Behr, Mr. Karl Howell\n",
       "890                                  Dooley, Mr. Patrick\n",
       "Name: Name, Length: 891, dtype: object"
      ]
     },
     "execution_count": 12,
     "metadata": {},
     "output_type": "execute_result"
    }
   ],
   "source": [
    "traindata.Name"
   ]
  },
  {
   "cell_type": "code",
   "execution_count": 13,
   "metadata": {},
   "outputs": [
    {
     "data": {
      "text/html": [
       "<div>\n",
       "<style scoped>\n",
       "    .dataframe tbody tr th:only-of-type {\n",
       "        vertical-align: middle;\n",
       "    }\n",
       "\n",
       "    .dataframe tbody tr th {\n",
       "        vertical-align: top;\n",
       "    }\n",
       "\n",
       "    .dataframe thead th {\n",
       "        text-align: right;\n",
       "    }\n",
       "</style>\n",
       "<table border=\"1\" class=\"dataframe\">\n",
       "  <thead>\n",
       "    <tr style=\"text-align: right;\">\n",
       "      <th></th>\n",
       "      <th>Title</th>\n",
       "      <th>Survived</th>\n",
       "    </tr>\n",
       "  </thead>\n",
       "  <tbody>\n",
       "    <tr>\n",
       "      <td>3</td>\n",
       "      <td>Mrs</td>\n",
       "      <td>0.793651</td>\n",
       "    </tr>\n",
       "    <tr>\n",
       "      <td>1</td>\n",
       "      <td>Miss</td>\n",
       "      <td>0.702703</td>\n",
       "    </tr>\n",
       "    <tr>\n",
       "      <td>0</td>\n",
       "      <td>Master</td>\n",
       "      <td>0.575000</td>\n",
       "    </tr>\n",
       "    <tr>\n",
       "      <td>4</td>\n",
       "      <td>Rare</td>\n",
       "      <td>0.347826</td>\n",
       "    </tr>\n",
       "    <tr>\n",
       "      <td>2</td>\n",
       "      <td>Mr</td>\n",
       "      <td>0.156673</td>\n",
       "    </tr>\n",
       "  </tbody>\n",
       "</table>\n",
       "</div>"
      ],
      "text/plain": [
       "    Title  Survived\n",
       "3     Mrs  0.793651\n",
       "1    Miss  0.702703\n",
       "0  Master  0.575000\n",
       "4    Rare  0.347826\n",
       "2      Mr  0.156673"
      ]
     },
     "execution_count": 13,
     "metadata": {},
     "output_type": "execute_result"
    }
   ],
   "source": [
    "# Applying feature transformation on Name column\n",
    "\n",
    "for name, data in list(list_data.items()):\n",
    "    data['Title'] = data['Name'].str.extract(' ([A-Za-z]+)\\.')\n",
    "    data['Title'] = data['Title'].replace(['Lady', 'Countess','Capt', 'Col','Don', 'Dr','Major', 'Rev', 'Sir', 'Jonkheer', 'Dona'], 'Rare')\n",
    "    data['Title'] = data['Title'].replace('Mlle', 'Miss')\n",
    "    data['Title'] = data['Title'].replace('Ms', 'Miss')\n",
    "    data['Title'] = data['Title'].replace('Mme', 'Mrs')\n",
    "    data.drop(['Name'], axis=1, inplace=True)\n",
    "traindata[['Title', 'Survived']].groupby(['Title'], as_index=False).mean().sort_values(by='Survived', ascending=False)"
   ]
  },
  {
   "cell_type": "markdown",
   "metadata": {},
   "source": [
    "It seems that women were saved during a titanic disaster more than the high status of male persons. "
   ]
  },
  {
   "cell_type": "markdown",
   "metadata": {},
   "source": [
    "## 3.4 Sex feature\n",
    "\n",
    "From the Name feature, the female proportion survival rate is very high. It is around 74% "
   ]
  },
  {
   "cell_type": "code",
   "execution_count": 14,
   "metadata": {},
   "outputs": [
    {
     "name": "stdout",
     "output_type": "stream",
     "text": [
      "      Sex  Survived\n",
      "0  female  0.742038\n",
      "1    male  0.188908\n"
     ]
    },
    {
     "data": {
      "image/png": "[encoded data removed]",
      "text/plain": [
       "<Figure size 403.2x288 with 2 Axes>"
      ]
     },
     "metadata": {
      "needs_background": "light"
     },
     "output_type": "display_data"
    }
   ],
   "source": [
    "print(traindata[[\"Sex\", \"Survived\"]].groupby(['Sex'], as_index=False).mean().sort_values(by='Survived', ascending=False))\n",
    "g = sns.catplot(x=\"Sex\", hue=\"Sex\", col=\"Survived\",\n",
    "                data=traindata, kind=\"count\",\n",
    "                height=4, aspect=.7);"
   ]
  },
  {
   "cell_type": "markdown",
   "metadata": {},
   "source": [
    "## 3.5 Age feature\n",
    "<br>\n",
    "Often people replace missing values with a mean value of their continuous range values. However, it is not an ideal scenario. For estimation of missing value can be done with the help of other correlated features i.e Pclass and Gender. <b>Median value</b> will be considered for replacing a null value for each subset. The sample was grouped according to Pclass and Gender which is shown below."
   ]
  },
  {
   "cell_type": "code",
   "execution_count": 15,
   "metadata": {},
   "outputs": [
    {
     "data": {
      "text/plain": [
       "<seaborn.axisgrid.FacetGrid at 0x16536a53608>"
      ]
     },
     "execution_count": 15,
     "metadata": {},
     "output_type": "execute_result"
    },
    {
     "data": {
      "image/png": "[encoded data removed]",
      "text/plain": [
       "<Figure size 514.88x475.2 with 6 Axes>"
      ]
     },
     "metadata": {
      "needs_background": "light"
     },
     "output_type": "display_data"
    }
   ],
   "source": [
    "train_age = traindata[['Age', 'Pclass','Sex']]\n",
    "test_age = testdata[['Age', 'Pclass','Sex']]\n",
    "df_age = pd.concat([train_age,test_age],ignore_index=True)\n",
    "\n",
    "grid = sns.FacetGrid(df_age, row='Pclass', col='Sex', size=2.2, aspect=1.6)\n",
    "grid.map(plt.hist, 'Age',alpha=.5, bins=20)\n",
    "grid.add_legend()"
   ]
  },
  {
   "cell_type": "markdown",
   "metadata": {},
   "source": [
    "From the above image, we can see that each subset has different age distributions i.e mean, median and mode of an age."
   ]
  },
  {
   "cell_type": "code",
   "execution_count": 16,
   "metadata": {
    "scrolled": false
   },
   "outputs": [
    {
     "name": "stdout",
     "output_type": "stream",
     "text": [
      "Age column null values in Traindata: 177\n",
      "\n",
      "Subset from Traindata with Gender: male,\tPclass: 0:\n",
      "count    151.000000\n",
      "mean      41.029272\n",
      "std       14.578529\n",
      "min        0.920000\n",
      "25%       30.000000\n",
      "50%       42.000000\n",
      "75%       50.000000\n",
      "max       80.000000\n",
      "Name: Age, dtype: float64\n",
      "Median value: 42\n",
      "Mode value: 36.0\n",
      "****************\n",
      "\n",
      "Subset from Traindata with Gender: male,\tPclass: 1:\n",
      "count    158.00000\n",
      "mean      30.81538\n",
      "std       13.97740\n",
      "min        0.67000\n",
      "25%       23.00000\n",
      "50%       29.50000\n",
      "75%       38.75000\n",
      "max       70.00000\n",
      "Name: Age, dtype: float64\n",
      "Median value: 30\n",
      "Mode value: 30.0\n",
      "****************\n",
      "\n",
      "Subset from Traindata with Gender: male,\tPclass: 2:\n",
      "count    349.000000\n",
      "mean      25.962264\n",
      "std       11.682415\n",
      "min        0.330000\n",
      "25%       20.000000\n",
      "50%       25.000000\n",
      "75%       32.000000\n",
      "max       74.000000\n",
      "Name: Age, dtype: float64\n",
      "Median value: 25\n",
      "Mode value: 21.0\n",
      "****************\n",
      "\n",
      "Subset from Traindata with Gender: female,\tPclass: 0:\n",
      "count    133.000000\n",
      "mean      37.037594\n",
      "std       14.272460\n",
      "min        2.000000\n",
      "25%       24.000000\n",
      "50%       36.000000\n",
      "75%       48.000000\n",
      "max       76.000000\n",
      "Name: Age, dtype: float64\n",
      "Median value: 36\n",
      "Mode value: 35.0\n",
      "****************\n",
      "\n",
      "Subset from Traindata with Gender: female,\tPclass: 1:\n",
      "count    103.000000\n",
      "mean      27.499223\n",
      "std       12.911747\n",
      "min        0.920000\n",
      "25%       20.000000\n",
      "50%       28.000000\n",
      "75%       34.000000\n",
      "max       60.000000\n",
      "Name: Age, dtype: float64\n",
      "Median value: 28\n",
      "Mode value: 24.0\n",
      "****************\n",
      "\n",
      "Subset from Traindata with Gender: female,\tPclass: 2:\n",
      "count    152.000000\n",
      "mean      22.185329\n",
      "std       12.205254\n",
      "min        0.170000\n",
      "25%       16.000000\n",
      "50%       22.000000\n",
      "75%       30.000000\n",
      "max       63.000000\n",
      "Name: Age, dtype: float64\n",
      "Median value: 22\n",
      "Mode value: 18.0\n",
      "****************\n",
      "Age column null values after replacement in Traindata: 0\n",
      "--------------------\n",
      "Age column null values in Testdata: 86\n",
      "\n",
      "Subset from Testdata with Gender: male,\tPclass: 0:\n",
      "count    151.000000\n",
      "mean      41.029272\n",
      "std       14.578529\n",
      "min        0.920000\n",
      "25%       30.000000\n",
      "50%       42.000000\n",
      "75%       50.000000\n",
      "max       80.000000\n",
      "Name: Age, dtype: float64\n",
      "Median value: 42\n",
      "Mode value: 36.0\n",
      "****************\n",
      "\n",
      "Subset from Testdata with Gender: male,\tPclass: 1:\n",
      "count    158.00000\n",
      "mean      30.81538\n",
      "std       13.97740\n",
      "min        0.67000\n",
      "25%       23.00000\n",
      "50%       29.50000\n",
      "75%       38.75000\n",
      "max       70.00000\n",
      "Name: Age, dtype: float64\n",
      "Median value: 30\n",
      "Mode value: 30.0\n",
      "****************\n",
      "\n",
      "Subset from Testdata with Gender: male,\tPclass: 2:\n",
      "count    349.000000\n",
      "mean      25.962264\n",
      "std       11.682415\n",
      "min        0.330000\n",
      "25%       20.000000\n",
      "50%       25.000000\n",
      "75%       32.000000\n",
      "max       74.000000\n",
      "Name: Age, dtype: float64\n",
      "Median value: 25\n",
      "Mode value: 21.0\n",
      "****************\n",
      "\n",
      "Subset from Testdata with Gender: female,\tPclass: 0:\n",
      "count    133.000000\n",
      "mean      37.037594\n",
      "std       14.272460\n",
      "min        2.000000\n",
      "25%       24.000000\n",
      "50%       36.000000\n",
      "75%       48.000000\n",
      "max       76.000000\n",
      "Name: Age, dtype: float64\n",
      "Median value: 36\n",
      "Mode value: 35.0\n",
      "****************\n",
      "\n",
      "Subset from Testdata with Gender: female,\tPclass: 1:\n",
      "count    103.000000\n",
      "mean      27.499223\n",
      "std       12.911747\n",
      "min        0.920000\n",
      "25%       20.000000\n",
      "50%       28.000000\n",
      "75%       34.000000\n",
      "max       60.000000\n",
      "Name: Age, dtype: float64\n",
      "Median value: 28\n",
      "Mode value: 24.0\n",
      "****************\n",
      "\n",
      "Subset from Testdata with Gender: female,\tPclass: 2:\n",
      "count    152.000000\n",
      "mean      22.185329\n",
      "std       12.205254\n",
      "min        0.170000\n",
      "25%       16.000000\n",
      "50%       22.000000\n",
      "75%       30.000000\n",
      "max       63.000000\n",
      "Name: Age, dtype: float64\n",
      "Median value: 22\n",
      "Mode value: 18.0\n",
      "****************\n",
      "Age column null values after replacement in Testdata: 0\n",
      "--------------------\n"
     ]
    }
   ],
   "source": [
    "# checking null values and replacing them with a median value.\n",
    "\n",
    "for name, data in list(list_data.items()):\n",
    "    print(f'Age column null values in {name.title()}:',data['Age'].isnull().sum())\n",
    "    for i in ['male', 'female']:\n",
    "        for j in range(0, 3):\n",
    "            subset_df = df_age[(df_age['Sex'] == i) & (df_age['Pclass'] == j+1)]['Age'].dropna()\n",
    "            print(f'\\nSubset from {name.title()} with Gender: {i},\\tPclass: {j}:')\n",
    "            print(subset_df.describe())\n",
    "            print('Median value:', round(subset_df.median()))\n",
    "            print('Mode value:', round(subset_df.mode()[0]))\n",
    "            print('****************')\n",
    "            data.loc[(data.Age.isnull()) & (data.Sex == i) & (data.Pclass == j+1),'Age'] = int(round(subset_df.median()))\n",
    "    print(f'Age column null values after replacement in {name.title()}:',data['Age'].isnull().sum())\n",
    "    data[\"Age\"] = data[\"Age\"].astype(int) \n",
    "    print('-'*20)"
   ]
  },
  {
   "cell_type": "markdown",
   "metadata": {},
   "source": [
    "We have seen a method for replacing missing values as well as a visual relationship among <b>Age, Pclass and Gender</b>. At subset level of the data has followed almost <b>left-skewed distibution</b>. In another word, its mode value lies left to the mean value and most of the cases mean, median values are almost close to each other. "
   ]
  },
  {
   "cell_type": "code",
   "execution_count": 17,
   "metadata": {},
   "outputs": [],
   "source": [
    "import scipy.stats as st\n",
    "def get_best_distribution(data):\n",
    "    dist_names = [\"norm\", \"exponweib\", \"weibull_max\", \"weibull_min\", \"pareto\", \"genextreme\"]\n",
    "    dist_results = []\n",
    "    params = {}\n",
    "    for dist_name in dist_names:\n",
    "        dist = getattr(st, dist_name)\n",
    "        param = dist.fit(data)\n",
    "        params[dist_name] = param\n",
    "        # Applying the Kolmogorov-Smirnov test\n",
    "        D, p = st.kstest(data, dist_name, args=param)\n",
    "#         print(\"p value for \"+dist_name+\" = \"+str(p))\n",
    "        dist_results.append((dist_name, p))\n",
    "#     print(dist_results)\n",
    "#     print(params)\n",
    "    # select the best fitted distribution\n",
    "    best_dist, best_p = (max(dist_results, key=lambda item: item[1]))\n",
    "    # store the name of the best fit and its p value\n",
    "\n",
    "    print(\"Best fitting distribution: \"+str(best_dist))\n",
    "#     print(\"Best p value: \"+ str(best_p))\n",
    "#     print(\"Parameters for the best fit: \"+ str(params[best_dist]))\n",
    "\n",
    "    return best_dist, best_p, params[best_dist]"
   ]
  },
  {
   "cell_type": "code",
   "execution_count": 18,
   "metadata": {},
   "outputs": [
    {
     "name": "stdout",
     "output_type": "stream",
     "text": [
      "Best fitting distribution: genextreme\n",
      "('genextreme', 1.4292621709318743e-07, (0.10210141422952809, 24.442709475020692, 11.175663347485344))\n",
      "Best fitting distribution: norm\n",
      "('norm', 0.036310183888932604, (28.055882352941175, 13.954120015175585))\n"
     ]
    },
    {
     "data": {
      "text/plain": [
       "<matplotlib.axes._subplots.AxesSubplot at 0x16536d79f48>"
      ]
     },
     "execution_count": 18,
     "metadata": {},
     "output_type": "execute_result"
    },
    {
     "data": {
      "image/png": "[encoded data removed]",
      "text/plain": [
       "<Figure size 864x432 with 2 Axes>"
      ]
     },
     "metadata": {
      "needs_background": "light"
     },
     "output_type": "display_data"
    }
   ],
   "source": [
    "print(get_best_distribution(traindata.dropna()[traindata['Survived']==0]['Age']))\n",
    "print(get_best_distribution(traindata.dropna()[traindata['Survived']==1]['Age']))\n",
    "\n",
    "from scipy.stats import genextreme,norm, exponweib\n",
    "fig, (ax1, ax2) = plt.subplots(ncols=2, sharey=True, figsize=(12,6))\n",
    "sns.distplot(traindata.dropna()[traindata['Survived']==0]['Age'], fit=exponweib, kde=False,ax=ax1,axlabel='Age wised Titanic non survivers')\n",
    "sns.distplot(traindata.dropna()[traindata['Survived']==1]['Age'], fit=norm, kde=False,color='g', ax=ax2,axlabel='Age wised Titanic survivers')\n"
   ]
  },
  {
   "cell_type": "markdown",
   "metadata": {},
   "source": [
    "### Using density plots one can answer, which age group of people has survived at a high rate and also who had died at a high rate during the disaster.\n",
    "\n",
    "* These probability values are also helpful for replacing missing data in the data with respect to survivers vs non-survivors.\n",
    "* From the above density plot, we can observe that most of the people who were survived during a titanic disaster are in the range between 20 to 35 years old."
   ]
  },
  {
   "cell_type": "markdown",
   "metadata": {},
   "source": [
    "### Is it possible to determine the relationship between Age vs Fare features?"
   ]
  },
  {
   "cell_type": "code",
   "execution_count": 19,
   "metadata": {},
   "outputs": [
    {
     "data": {
      "text/plain": [
       "<matplotlib.axes._subplots.AxesSubplot at 0x16536f91b08>"
      ]
     },
     "execution_count": 19,
     "metadata": {},
     "output_type": "execute_result"
    },
    {
     "data": {
      "image/png": "[encoded data removed]",
      "text/plain": [
       "<Figure size 432x288 with 1 Axes>"
      ]
     },
     "metadata": {
      "needs_background": "light"
     },
     "output_type": "display_data"
    }
   ],
   "source": [
    "traindata.dropna().plot.scatter(x='Age', y='Fare')"
   ]
  },
  {
   "cell_type": "markdown",
   "metadata": {},
   "source": [
    "Since most of the ticket fares are uniformly distributed for each age. It is hard to determine the relationship."
   ]
  },
  {
   "cell_type": "markdown",
   "metadata": {},
   "source": [
    "## 3.6 SibSp & Parch features"
   ]
  },
  {
   "cell_type": "code",
   "execution_count": 20,
   "metadata": {},
   "outputs": [
    {
     "data": {
      "text/html": [
       "<div>\n",
       "<style scoped>\n",
       "    .dataframe tbody tr th:only-of-type {\n",
       "        vertical-align: middle;\n",
       "    }\n",
       "\n",
       "    .dataframe tbody tr th {\n",
       "        vertical-align: top;\n",
       "    }\n",
       "\n",
       "    .dataframe thead th {\n",
       "        text-align: right;\n",
       "    }\n",
       "</style>\n",
       "<table border=\"1\" class=\"dataframe\">\n",
       "  <thead>\n",
       "    <tr style=\"text-align: right;\">\n",
       "      <th></th>\n",
       "      <th>SibSp</th>\n",
       "      <th>Survived</th>\n",
       "    </tr>\n",
       "  </thead>\n",
       "  <tbody>\n",
       "    <tr>\n",
       "      <td>1</td>\n",
       "      <td>1</td>\n",
       "      <td>0.535885</td>\n",
       "    </tr>\n",
       "    <tr>\n",
       "      <td>2</td>\n",
       "      <td>2</td>\n",
       "      <td>0.464286</td>\n",
       "    </tr>\n",
       "    <tr>\n",
       "      <td>0</td>\n",
       "      <td>0</td>\n",
       "      <td>0.345395</td>\n",
       "    </tr>\n",
       "    <tr>\n",
       "      <td>3</td>\n",
       "      <td>3</td>\n",
       "      <td>0.250000</td>\n",
       "    </tr>\n",
       "    <tr>\n",
       "      <td>4</td>\n",
       "      <td>4</td>\n",
       "      <td>0.166667</td>\n",
       "    </tr>\n",
       "    <tr>\n",
       "      <td>5</td>\n",
       "      <td>5</td>\n",
       "      <td>0.000000</td>\n",
       "    </tr>\n",
       "    <tr>\n",
       "      <td>6</td>\n",
       "      <td>8</td>\n",
       "      <td>0.000000</td>\n",
       "    </tr>\n",
       "  </tbody>\n",
       "</table>\n",
       "</div>"
      ],
      "text/plain": [
       "   SibSp  Survived\n",
       "1      1  0.535885\n",
       "2      2  0.464286\n",
       "0      0  0.345395\n",
       "3      3  0.250000\n",
       "4      4  0.166667\n",
       "5      5  0.000000\n",
       "6      8  0.000000"
      ]
     },
     "execution_count": 20,
     "metadata": {},
     "output_type": "execute_result"
    }
   ],
   "source": [
    "traindata[[\"SibSp\", \"Survived\"]].groupby(['SibSp'], as_index=False).mean().sort_values(by='Survived', ascending=False)"
   ]
  },
  {
   "cell_type": "code",
   "execution_count": 21,
   "metadata": {},
   "outputs": [
    {
     "data": {
      "text/html": [
       "<div>\n",
       "<style scoped>\n",
       "    .dataframe tbody tr th:only-of-type {\n",
       "        vertical-align: middle;\n",
       "    }\n",
       "\n",
       "    .dataframe tbody tr th {\n",
       "        vertical-align: top;\n",
       "    }\n",
       "\n",
       "    .dataframe thead th {\n",
       "        text-align: right;\n",
       "    }\n",
       "</style>\n",
       "<table border=\"1\" class=\"dataframe\">\n",
       "  <thead>\n",
       "    <tr style=\"text-align: right;\">\n",
       "      <th></th>\n",
       "      <th>Parch</th>\n",
       "      <th>Survived</th>\n",
       "    </tr>\n",
       "  </thead>\n",
       "  <tbody>\n",
       "    <tr>\n",
       "      <td>3</td>\n",
       "      <td>3</td>\n",
       "      <td>0.600000</td>\n",
       "    </tr>\n",
       "    <tr>\n",
       "      <td>1</td>\n",
       "      <td>1</td>\n",
       "      <td>0.550847</td>\n",
       "    </tr>\n",
       "    <tr>\n",
       "      <td>2</td>\n",
       "      <td>2</td>\n",
       "      <td>0.500000</td>\n",
       "    </tr>\n",
       "    <tr>\n",
       "      <td>0</td>\n",
       "      <td>0</td>\n",
       "      <td>0.343658</td>\n",
       "    </tr>\n",
       "    <tr>\n",
       "      <td>5</td>\n",
       "      <td>5</td>\n",
       "      <td>0.200000</td>\n",
       "    </tr>\n",
       "    <tr>\n",
       "      <td>4</td>\n",
       "      <td>4</td>\n",
       "      <td>0.000000</td>\n",
       "    </tr>\n",
       "    <tr>\n",
       "      <td>6</td>\n",
       "      <td>6</td>\n",
       "      <td>0.000000</td>\n",
       "    </tr>\n",
       "  </tbody>\n",
       "</table>\n",
       "</div>"
      ],
      "text/plain": [
       "   Parch  Survived\n",
       "3      3  0.600000\n",
       "1      1  0.550847\n",
       "2      2  0.500000\n",
       "0      0  0.343658\n",
       "5      5  0.200000\n",
       "4      4  0.000000\n",
       "6      6  0.000000"
      ]
     },
     "execution_count": 21,
     "metadata": {},
     "output_type": "execute_result"
    }
   ],
   "source": [
    "traindata[[\"Parch\", \"Survived\"]].groupby(['Parch'], as_index=False).mean().sort_values(by='Survived', ascending=False)"
   ]
  },
  {
   "cell_type": "markdown",
   "metadata": {},
   "source": [
    "However, SibSp and Parch features have describes a higher rate of survival for people who are with parents on the ship. More family members contribute to the decrease in survival rate.\n",
    "\n",
    "Let's create a feature namely whether a person is alone or not by using Parch and SibSp features.  "
   ]
  },
  {
   "cell_type": "code",
   "execution_count": 22,
   "metadata": {},
   "outputs": [
    {
     "data": {
      "text/html": [
       "<div>\n",
       "<style scoped>\n",
       "    .dataframe tbody tr th:only-of-type {\n",
       "        vertical-align: middle;\n",
       "    }\n",
       "\n",
       "    .dataframe tbody tr th {\n",
       "        vertical-align: top;\n",
       "    }\n",
       "\n",
       "    .dataframe thead th {\n",
       "        text-align: right;\n",
       "    }\n",
       "</style>\n",
       "<table border=\"1\" class=\"dataframe\">\n",
       "  <thead>\n",
       "    <tr style=\"text-align: right;\">\n",
       "      <th></th>\n",
       "      <th>IsAlone</th>\n",
       "      <th>Survived</th>\n",
       "    </tr>\n",
       "  </thead>\n",
       "  <tbody>\n",
       "    <tr>\n",
       "      <td>0</td>\n",
       "      <td>0</td>\n",
       "      <td>0.505650</td>\n",
       "    </tr>\n",
       "    <tr>\n",
       "      <td>1</td>\n",
       "      <td>1</td>\n",
       "      <td>0.303538</td>\n",
       "    </tr>\n",
       "  </tbody>\n",
       "</table>\n",
       "</div>"
      ],
      "text/plain": [
       "   IsAlone  Survived\n",
       "0        0  0.505650\n",
       "1        1  0.303538"
      ]
     },
     "execution_count": 22,
     "metadata": {},
     "output_type": "execute_result"
    }
   ],
   "source": [
    "for name, data in list(list_data.items()):\n",
    "    data['FamilySize'] = data['SibSp'] + data['Parch'] + 1\n",
    "    data['IsAlone'] = 0\n",
    "    data.loc[data['FamilySize'] == 1, 'IsAlone'] = 1\n",
    "#     data.drop(['Parch', 'SibSp', 'FamilySize'],inplace=True, axis=1) # drop unnecessary columns\n",
    "traindata[['IsAlone', 'Survived']].groupby(['IsAlone'], as_index=False).mean().sort_values(by='Survived', ascending=False)"
   ]
  },
  {
   "cell_type": "markdown",
   "metadata": {},
   "source": [
    "## 3.8 Fare feature"
   ]
  },
  {
   "cell_type": "code",
   "execution_count": 23,
   "metadata": {},
   "outputs": [
    {
     "data": {
      "text/plain": [
       "<matplotlib.axes._subplots.AxesSubplot at 0x16536e8f088>"
      ]
     },
     "execution_count": 23,
     "metadata": {},
     "output_type": "execute_result"
    },
    {
     "data": {
      "image/png": "[encoded data removed]",
      "text/plain": [
       "<Figure size 1080x360 with 2 Axes>"
      ]
     },
     "metadata": {
      "needs_background": "light"
     },
     "output_type": "display_data"
    }
   ],
   "source": [
    "fig, (ax1, ax2) = plt.subplots(ncols=2, sharey=True, figsize=(15,5))\n",
    "sns.distplot(traindata.dropna()[traindata['Survived']==0]['Fare'],ax=ax1,axlabel='Fare Vs Titanic non survivers')\n",
    "sns.distplot(traindata.dropna()[traindata['Survived']==1]['Fare'],color='g', ax=ax2,axlabel='Fare Vs Titanic survivers')"
   ]
  },
  {
   "cell_type": "code",
   "execution_count": 24,
   "metadata": {},
   "outputs": [
    {
     "data": {
      "text/html": [
       "<div>\n",
       "<style scoped>\n",
       "    .dataframe tbody tr th:only-of-type {\n",
       "        vertical-align: middle;\n",
       "    }\n",
       "\n",
       "    .dataframe tbody tr th {\n",
       "        vertical-align: top;\n",
       "    }\n",
       "\n",
       "    .dataframe thead th {\n",
       "        text-align: right;\n",
       "    }\n",
       "</style>\n",
       "<table border=\"1\" class=\"dataframe\">\n",
       "  <thead>\n",
       "    <tr style=\"text-align: right;\">\n",
       "      <th></th>\n",
       "      <th>bin_Fare</th>\n",
       "      <th>Survived</th>\n",
       "    </tr>\n",
       "  </thead>\n",
       "  <tbody>\n",
       "    <tr>\n",
       "      <td>3</td>\n",
       "      <td>(31.0, 512.329]</td>\n",
       "      <td>0.581081</td>\n",
       "    </tr>\n",
       "    <tr>\n",
       "      <td>2</td>\n",
       "      <td>(14.454, 31.0]</td>\n",
       "      <td>0.454955</td>\n",
       "    </tr>\n",
       "    <tr>\n",
       "      <td>1</td>\n",
       "      <td>(7.91, 14.454]</td>\n",
       "      <td>0.303571</td>\n",
       "    </tr>\n",
       "    <tr>\n",
       "      <td>0</td>\n",
       "      <td>(-0.001, 7.91]</td>\n",
       "      <td>0.197309</td>\n",
       "    </tr>\n",
       "  </tbody>\n",
       "</table>\n",
       "</div>"
      ],
      "text/plain": [
       "          bin_Fare  Survived\n",
       "3  (31.0, 512.329]  0.581081\n",
       "2   (14.454, 31.0]  0.454955\n",
       "1   (7.91, 14.454]  0.303571\n",
       "0   (-0.001, 7.91]  0.197309"
      ]
     },
     "execution_count": 24,
     "metadata": {},
     "output_type": "execute_result"
    }
   ],
   "source": [
    "for name, data in list(list_data.items()):\n",
    "#     data['Fare'].fillna(data['Fare'].dropna().median(), inplace=True)\n",
    "    data['bin_Fare'] = pd.qcut(data.Fare, 4)\n",
    "testdata['Fare'].fillna(testdata['Fare'].dropna().median(), inplace=True)\n",
    "traindata[['bin_Fare', 'Survived']].groupby(['bin_Fare'], as_index=False).mean().sort_values(by='Survived', ascending=False)"
   ]
  },
  {
   "cell_type": "code",
   "execution_count": 25,
   "metadata": {},
   "outputs": [],
   "source": [
    "for name, data in list(list_data.items()):\n",
    "    data['Fare'] = pd.qcut(data.Fare, 4, labels=[0,1,2,3]).astype(int)\n",
    "    data.drop(['bin_Fare'],inplace=True, axis=1)"
   ]
  },
  {
   "cell_type": "markdown",
   "metadata": {},
   "source": [
    "People who bought tickets within range of (31.0, 512.329]$,  likey to be survived because those tickets belong higher than 3rd class passenger tickets."
   ]
  },
  {
   "cell_type": "markdown",
   "metadata": {},
   "source": [
    "## 3.9 Embarked feature\n",
    "\n",
    "Embarked feature takes S, Q, C values based on port of embarkation.\n",
    "\n",
    "C = Cherbourg, \n",
    "\n",
    "Q = Queenstown,\n",
    "\n",
    "S = Southampton"
   ]
  },
  {
   "cell_type": "code",
   "execution_count": 26,
   "metadata": {},
   "outputs": [
    {
     "data": {
      "text/html": [
       "<div>\n",
       "<style scoped>\n",
       "    .dataframe tbody tr th:only-of-type {\n",
       "        vertical-align: middle;\n",
       "    }\n",
       "\n",
       "    .dataframe tbody tr th {\n",
       "        vertical-align: top;\n",
       "    }\n",
       "\n",
       "    .dataframe thead th {\n",
       "        text-align: right;\n",
       "    }\n",
       "</style>\n",
       "<table border=\"1\" class=\"dataframe\">\n",
       "  <thead>\n",
       "    <tr style=\"text-align: right;\">\n",
       "      <th></th>\n",
       "      <th>Embarked</th>\n",
       "      <th>Survived</th>\n",
       "    </tr>\n",
       "  </thead>\n",
       "  <tbody>\n",
       "    <tr>\n",
       "      <td>0</td>\n",
       "      <td>C</td>\n",
       "      <td>0.553571</td>\n",
       "    </tr>\n",
       "    <tr>\n",
       "      <td>1</td>\n",
       "      <td>Q</td>\n",
       "      <td>0.389610</td>\n",
       "    </tr>\n",
       "    <tr>\n",
       "      <td>2</td>\n",
       "      <td>S</td>\n",
       "      <td>0.339009</td>\n",
       "    </tr>\n",
       "  </tbody>\n",
       "</table>\n",
       "</div>"
      ],
      "text/plain": [
       "  Embarked  Survived\n",
       "0        C  0.553571\n",
       "1        Q  0.389610\n",
       "2        S  0.339009"
      ]
     },
     "execution_count": 26,
     "metadata": {},
     "output_type": "execute_result"
    }
   ],
   "source": [
    "# In train data 2 missing values exist, hence these can be replaced by the mode values of the Embarked column.\n",
    "freq_Embarked = traindata.Embarked.dropna().mode()[0]\n",
    "traindata['Embarked'] = traindata['Embarked'].fillna(freq_Embarked)\n",
    "traindata[['Embarked', 'Survived']].groupby(['Embarked'], as_index=False).mean().sort_values(by='Survived', ascending=False)"
   ]
  },
  {
   "cell_type": "markdown",
   "metadata": {},
   "source": [
    "### Still, there are categorical features in the dataset. These columns will be converted into ordinal values."
   ]
  },
  {
   "cell_type": "code",
   "execution_count": 27,
   "metadata": {},
   "outputs": [
    {
     "name": "stdout",
     "output_type": "stream",
     "text": [
      "<class 'pandas.core.frame.DataFrame'>\n",
      "RangeIndex: 891 entries, 0 to 890\n",
      "Data columns (total 12 columns):\n",
      "Survived      891 non-null int64\n",
      "Pclass        891 non-null int64\n",
      "Sex           891 non-null int32\n",
      "Age           891 non-null int32\n",
      "SibSp         891 non-null int64\n",
      "Parch         891 non-null int64\n",
      "Fare          891 non-null int32\n",
      "Embarked      891 non-null int32\n",
      "Title         891 non-null int32\n",
      "FamilySize    891 non-null int64\n",
      "IsAlone       891 non-null int64\n",
      "Age_Class     891 non-null int64\n",
      "dtypes: int32(5), int64(7)\n",
      "memory usage: 66.3 KB\n",
      "None\n",
      "------------------------------------------------------------\n",
      "<class 'pandas.core.frame.DataFrame'>\n",
      "RangeIndex: 418 entries, 0 to 417\n",
      "Data columns (total 11 columns):\n",
      "Pclass        418 non-null int64\n",
      "Sex           418 non-null int32\n",
      "Age           418 non-null int32\n",
      "SibSp         418 non-null int64\n",
      "Parch         418 non-null int64\n",
      "Fare          418 non-null int32\n",
      "Embarked      418 non-null int32\n",
      "Title         418 non-null int32\n",
      "FamilySize    418 non-null int64\n",
      "IsAlone       418 non-null int64\n",
      "Age_Class     418 non-null int64\n",
      "dtypes: int32(5), int64(6)\n",
      "memory usage: 27.9 KB\n",
      "None\n",
      "------------------------------------------------------------\n"
     ]
    }
   ],
   "source": [
    "titles = {\"Mr\": 1, \"Miss\": 2, \"Mrs\": 3, \"Master\": 4, \"Rare\": 5}\n",
    "\n",
    "for name, data in list(list_data.items()):\n",
    "    data['Sex'] = data['Sex'].map( {'female': 1, 'male': 0} ).astype(int)\n",
    "    data['Age'] = pd.cut(data.Age, bins=5, labels=[0,1,2,3,4]).astype(int)\n",
    "    data['Title'] = data['Title'].map(titles).astype(int)\n",
    "    data['Embarked'] = data['Embarked'].map( {'S': 0, 'C': 1, 'Q': 2} ).astype(int)\n",
    "    data['Age_Class']= data['Age']* data['Pclass']\n",
    "    print(data.info())\n",
    "    print('-'*60)"
   ]
  },
  {
   "cell_type": "code",
   "execution_count": 28,
   "metadata": {},
   "outputs": [],
   "source": [
    "# traindata['Embarked'] = pd.Categorical(traindata['Embarked'])\n",
    "# dfDummies = pd.get_dummies(traindata['Embarked'], prefix = 'category')\n",
    "# traindata.drop(['Embarked'],inplace=True, axis=1)\n",
    "# traindata = pd.concat([traindata, dfDummies],axis=1)"
   ]
  },
  {
   "cell_type": "code",
   "execution_count": 29,
   "metadata": {},
   "outputs": [
    {
     "data": {
      "text/html": [
       "<div>\n",
       "<style scoped>\n",
       "    .dataframe tbody tr th:only-of-type {\n",
       "        vertical-align: middle;\n",
       "    }\n",
       "\n",
       "    .dataframe tbody tr th {\n",
       "        vertical-align: top;\n",
       "    }\n",
       "\n",
       "    .dataframe thead th {\n",
       "        text-align: right;\n",
       "    }\n",
       "</style>\n",
       "<table border=\"1\" class=\"dataframe\">\n",
       "  <thead>\n",
       "    <tr style=\"text-align: right;\">\n",
       "      <th></th>\n",
       "      <th>Survived</th>\n",
       "      <th>Pclass</th>\n",
       "      <th>Sex</th>\n",
       "      <th>Age</th>\n",
       "      <th>SibSp</th>\n",
       "      <th>Parch</th>\n",
       "      <th>Fare</th>\n",
       "      <th>Embarked</th>\n",
       "      <th>Title</th>\n",
       "      <th>FamilySize</th>\n",
       "      <th>IsAlone</th>\n",
       "      <th>Age_Class</th>\n",
       "    </tr>\n",
       "  </thead>\n",
       "  <tbody>\n",
       "    <tr>\n",
       "      <td>0</td>\n",
       "      <td>0</td>\n",
       "      <td>3</td>\n",
       "      <td>0</td>\n",
       "      <td>1</td>\n",
       "      <td>1</td>\n",
       "      <td>0</td>\n",
       "      <td>0</td>\n",
       "      <td>0</td>\n",
       "      <td>1</td>\n",
       "      <td>2</td>\n",
       "      <td>0</td>\n",
       "      <td>3</td>\n",
       "    </tr>\n",
       "    <tr>\n",
       "      <td>1</td>\n",
       "      <td>1</td>\n",
       "      <td>1</td>\n",
       "      <td>1</td>\n",
       "      <td>2</td>\n",
       "      <td>1</td>\n",
       "      <td>0</td>\n",
       "      <td>3</td>\n",
       "      <td>1</td>\n",
       "      <td>3</td>\n",
       "      <td>2</td>\n",
       "      <td>0</td>\n",
       "      <td>2</td>\n",
       "    </tr>\n",
       "    <tr>\n",
       "      <td>2</td>\n",
       "      <td>1</td>\n",
       "      <td>3</td>\n",
       "      <td>1</td>\n",
       "      <td>1</td>\n",
       "      <td>0</td>\n",
       "      <td>0</td>\n",
       "      <td>1</td>\n",
       "      <td>0</td>\n",
       "      <td>2</td>\n",
       "      <td>1</td>\n",
       "      <td>1</td>\n",
       "      <td>3</td>\n",
       "    </tr>\n",
       "    <tr>\n",
       "      <td>3</td>\n",
       "      <td>1</td>\n",
       "      <td>1</td>\n",
       "      <td>1</td>\n",
       "      <td>2</td>\n",
       "      <td>1</td>\n",
       "      <td>0</td>\n",
       "      <td>3</td>\n",
       "      <td>0</td>\n",
       "      <td>3</td>\n",
       "      <td>2</td>\n",
       "      <td>0</td>\n",
       "      <td>2</td>\n",
       "    </tr>\n",
       "    <tr>\n",
       "      <td>4</td>\n",
       "      <td>0</td>\n",
       "      <td>3</td>\n",
       "      <td>0</td>\n",
       "      <td>2</td>\n",
       "      <td>0</td>\n",
       "      <td>0</td>\n",
       "      <td>1</td>\n",
       "      <td>0</td>\n",
       "      <td>1</td>\n",
       "      <td>1</td>\n",
       "      <td>1</td>\n",
       "      <td>6</td>\n",
       "    </tr>\n",
       "  </tbody>\n",
       "</table>\n",
       "</div>"
      ],
      "text/plain": [
       "   Survived  Pclass  Sex  Age  SibSp  Parch  Fare  Embarked  Title  \\\n",
       "0         0       3    0    1      1      0     0         0      1   \n",
       "1         1       1    1    2      1      0     3         1      3   \n",
       "2         1       3    1    1      0      0     1         0      2   \n",
       "3         1       1    1    2      1      0     3         0      3   \n",
       "4         0       3    0    2      0      0     1         0      1   \n",
       "\n",
       "   FamilySize  IsAlone  Age_Class  \n",
       "0           2        0          3  \n",
       "1           2        0          2  \n",
       "2           1        1          3  \n",
       "3           2        0          2  \n",
       "4           1        1          6  "
      ]
     },
     "execution_count": 29,
     "metadata": {},
     "output_type": "execute_result"
    }
   ],
   "source": [
    "traindata.head()"
   ]
  },
  {
   "cell_type": "markdown",
   "metadata": {},
   "source": [
    "### Applying oversampling method on the data to avoid class imbalance."
   ]
  },
  {
   "cell_type": "code",
   "execution_count": 30,
   "metadata": {},
   "outputs": [
    {
     "data": {
      "text/plain": [
       "((891, 11), (891,), (418, 11))"
      ]
     },
     "execution_count": 30,
     "metadata": {},
     "output_type": "execute_result"
    }
   ],
   "source": [
    "X_train = traindata.drop(\"Survived\", axis=1)\n",
    "Y_train = traindata[\"Survived\"]\n",
    "X_test  = testdata.copy()\n",
    "X_train.shape, Y_train.shape, X_test.shape"
   ]
  },
  {
   "cell_type": "code",
   "execution_count": 31,
   "metadata": {},
   "outputs": [
    {
     "data": {
      "text/plain": [
       "((878, 11), (220, 11), (878,), (220,))"
      ]
     },
     "execution_count": 31,
     "metadata": {},
     "output_type": "execute_result"
    }
   ],
   "source": [
    "from imblearn.over_sampling import SMOTE\n",
    "from sklearn.model_selection import train_test_split\n",
    "oversample = SMOTE()\n",
    "X_resampled, y_resampled = oversample.fit_resample(X_train, Y_train)\n",
    "X1,X2,y1,y2 = train_test_split(X_resampled,y_resampled, test_size=0.2)\n",
    "pd.DataFrame(y_resampled)[0].value_counts()\n",
    "X1.shape, X2.shape, y1.shape, y2.shape"
   ]
  },
  {
   "cell_type": "markdown",
   "metadata": {},
   "source": [
    "# 4. Predicitve modeling\n",
    "\n",
    "Sofar, we have seen statical analysis of the data. It has been preprocessed and analysed. Now, it is time to train a model. For classification purpose there are several machine learning algotihms are avaialble. Out of them I would to choose <b>Decision Tree </b> \n",
    "\n",
    "AUC (Area Under Curve) is used as a evaluation metric, since the target value is binary. Hence it’s a binary classification problem. AUC is a good way for evaluation for this type of problems.\n",
    "\n",
    "\n",
    "#### Regularization:\n",
    "\n",
    "It discourages learning a more complex or flexible model, so as to avoid the risk of overfitting. One of the ways of avoiding overfitting is to use cross validation, that helps in estimating the error over test set, and in deciding what parameters work best for your model."
   ]
  },
  {
   "cell_type": "markdown",
   "metadata": {},
   "source": [
    "## 4.1 Decision Tree\n",
    "\n",
    "Decision Tree solves the problem of machine learning by transforming the data into a tree representation. Each internal node of the tree representation denotes an attribute and each leaf node denotes a class label. Decision tree algorithm can be used to solve both regression and classification problems.\n",
    "\n",
    "#### Advantages:\n",
    "\n",
    "* Compared to other algorithms decision trees requires less effort for data preparation during pre-processing.\n",
    "* A decision tree does not require normalization of data.\n",
    "* A decision tree does not require scaling of data as well.\n",
    "* Missing values in the data also does NOT affect the process of building a decision tree to any considerable extent.\n",
    "* A Decision trees model is very intuitive and easy to explain to technical teams as well as stakeholders.\n",
    "\n",
    "#### Disadvantage:\n",
    "\n",
    "* A small change in the data can cause a large change in the structure of the decision tree causing instability.\n",
    "* Decision Tree algorithm is inadequate for applying regression and predicting continuous values.\n",
    "\n",
    "#### Pruning\n",
    "\n",
    "Growing the tree beyond a certain level of complexity leads to overfitting. In our data, age doesn’t have any impact on the target variable. Growing the tree beyond Gender is not going to add any value. Need to cut it at Gender. This process of trimming trees is called Pruning.\n",
    "\n",
    "Avoid overfitting by changing the parameters:\n",
    "\n",
    "* <b>max_depth:</b> How deep the tree can be. The deeper the tree, the more splits it has and it captures more information about the data. However, an increase in depth may good for training but it will fail to generalize the unseen data.\n",
    "\n",
    "* <b>min_samples_leaf:</b> the Minimum number of samples required to split at leaf node, increase in percentage may the model cannot learn enough about the data. \n",
    "\n",
    "* <b>max_features:</b> max_features represents the number of features to consider when looking for the best split. An increase in number features for the best split may cause overfitting. \n",
    "\n",
    "* <b>max_leaf_nodes:</b> Reduce the number of leaf nodes\n",
    "\n"
   ]
  },
  {
   "cell_type": "code",
   "execution_count": 32,
   "metadata": {},
   "outputs": [
    {
     "name": "stdout",
     "output_type": "stream",
     "text": [
      "Model accuracy:  88.72\n"
     ]
    }
   ],
   "source": [
    "decision_tree = DecisionTreeClassifier()\n",
    "decision_tree.fit(X_resampled, y_resampled)\n",
    "# Y_pred = decision_tree.predict(X_test)\n",
    "acc_decision_tree = round(decision_tree.score(X1, y1) * 100, 2)\n",
    "print('Model accuracy: ',acc_decision_tree)"
   ]
  },
  {
   "cell_type": "code",
   "execution_count": 33,
   "metadata": {},
   "outputs": [
    {
     "data": {
      "text/plain": [
       "array([[407,  30],\n",
       "       [ 69, 372]], dtype=int64)"
      ]
     },
     "execution_count": 33,
     "metadata": {},
     "output_type": "execute_result"
    }
   ],
   "source": [
    "from sklearn.metrics import confusion_matrix, accuracy_score,classification_report\n",
    "y_pred = decision_tree.predict(X1)\n",
    "confusion_matrix(y_pred=y_pred, y_true=y1)"
   ]
  },
  {
   "cell_type": "code",
   "execution_count": 34,
   "metadata": {},
   "outputs": [
    {
     "data": {
      "image/png": "[encoded data removed]",
      "text/plain": [
       "<Figure size 432x288 with 1 Axes>"
      ]
     },
     "metadata": {
      "needs_background": "light"
     },
     "output_type": "display_data"
    }
   ],
   "source": [
    "y_probas = decision_tree.predict_proba(X1)[::,1]\n",
    "# print(y_probas)\n",
    "fpr, tpr, _ = metrics.roc_curve(y1,  y_probas)\n",
    "auc = metrics.roc_auc_score(y1, y_probas)\n",
    "plt.plot(fpr,tpr,label=\"data 1, auc=\"+str(auc))\n",
    "plt.legend(loc=4)\n",
    "plt.title('ROC plot with oversampling')\n",
    "plt.xlabel('False Positive Rate')\n",
    "plt.ylabel('True Positive Rate')\n",
    "plt.show()"
   ]
  },
  {
   "cell_type": "code",
   "execution_count": 35,
   "metadata": {},
   "outputs": [
    {
     "name": "stdout",
     "output_type": "stream",
     "text": [
      "Model accuracy:  88.89\n"
     ]
    },
    {
     "data": {
      "image/png": "[encoded data removed]",
      "text/plain": [
       "<Figure size 432x288 with 1 Axes>"
      ]
     },
     "metadata": {
      "needs_background": "light"
     },
     "output_type": "display_data"
    }
   ],
   "source": [
    "decision_tree_norm = DecisionTreeClassifier()\n",
    "decision_tree_norm.fit(X_train, Y_train)\n",
    "# Y_pred = decision_tree.predict(X_test)\n",
    "acc_decision_tree = round(decision_tree_norm.score(X_train, Y_train) * 100, 2)\n",
    "print('Model accuracy: ',acc_decision_tree)\n",
    "\n",
    "\n",
    "y_probas = decision_tree_norm.predict_proba(X_train)[::,1]\n",
    "# print(y_probas)\n",
    "fpr, tpr, _ = metrics.roc_curve(Y_train,  y_probas)\n",
    "auc = metrics.roc_auc_score(Y_train, y_probas)\n",
    "plt.plot(fpr,tpr,label=\"data 1, auc=\"+str(auc))\n",
    "plt.legend(loc=4)\n",
    "plt.title('ROC plot without oversampling')\n",
    "plt.xlabel('False Positive Rate')\n",
    "plt.ylabel('True Positive Rate')\n",
    "plt.show()"
   ]
  },
  {
   "cell_type": "markdown",
   "metadata": {},
   "source": [
    "#### From the above ROC curve, model is able predict each category with a certainity of 95%. Overall accuracy of the model is 88%"
   ]
  },
  {
   "cell_type": "markdown",
   "metadata": {},
   "source": [
    "## Check whether it is a bias or variance problem\n",
    "\n",
    "If a model has high bias, it will fail to capture the complexity of the data. This would be like using a linear model for data that has a quadratic form. In short, high bias means the model underfits the data. In contrast, high variance means a model is too complex like using a 100 degree polynomial for that quadratic data. In this situation, overfitting of the data. "
   ]
  },
  {
   "cell_type": "code",
   "execution_count": 36,
   "metadata": {},
   "outputs": [
    {
     "name": "stdout",
     "output_type": "stream",
     "text": [
      "Average expected loss: 0.179\n",
      "Average bias: 0.173\n",
      "Average variance: 0.067\n"
     ]
    }
   ],
   "source": [
    "from mlxtend.evaluate import bias_variance_decomp\n",
    "avg_expected_loss, avg_bias, avg_var = bias_variance_decomp(decision_tree, X1, y1,X2,y2, random_seed=123)\n",
    "print('Average expected loss: %.3f' % avg_expected_loss)\n",
    "print('Average bias: %.3f' % avg_bias)\n",
    "print('Average variance: %.3f' % avg_var)"
   ]
  },
  {
   "cell_type": "markdown",
   "metadata": {},
   "source": [
    "From the above result, I can conclude the trained model an under fitted due to high bias value whereas its variance values it low. Nevertheless, the is good enough to capture a relatively complex relationship as well as good enough to generalize unseen data. Below shown cross-validation results. The model has performed very well on test data with very less standard deviation"
   ]
  },
  {
   "cell_type": "code",
   "execution_count": 37,
   "metadata": {},
   "outputs": [
    {
     "data": {
      "text/plain": [
       "array([0.78212291, 0.78651685, 0.79775281, 0.78089888, 0.84269663])"
      ]
     },
     "execution_count": 37,
     "metadata": {},
     "output_type": "execute_result"
    }
   ],
   "source": [
    "from sklearn.model_selection import cross_validate\n",
    "cv_results = cross_validate(decision_tree_norm, X_train, Y_train, cv=5, scoring='accuracy')\n",
    "cv_results['test_score']"
   ]
  },
  {
   "cell_type": "markdown",
   "metadata": {},
   "source": [
    "### The following code is will be used for parameter tuning, however, the model works very well for default values."
   ]
  },
  {
   "cell_type": "code",
   "execution_count": 38,
   "metadata": {},
   "outputs": [],
   "source": [
    "import itertools\n",
    "import datetime\n",
    "max_depths  = np.linspace(1, 5, 5, endpoint=True)\n",
    "min_samples_leafs = np.linspace(0.1, 0.5, 5, endpoint=True)\n",
    "max_features = [i for i in range(2, X_train.shape[1])][:5]\n",
    "max_leaf_nodes = np.linspace(2, 5, 4, endpoint=True)\n",
    "\n",
    "parameters = list(itertools.product(max_depths,min_samples_leafs,max_features, max_leaf_nodes))"
   ]
  },
  {
   "cell_type": "code",
   "execution_count": 39,
   "metadata": {},
   "outputs": [],
   "source": [
    "def plot(data, title_, x_name):\n",
    "    plt.plot(data)\n",
    "    plt.title(title_)\n",
    "    plt.xlabel(x_name)\n",
    "    plt.show()\n",
    "    plt.savefig(f'{title_}.png')"
   ]
  },
  {
   "cell_type": "code",
   "execution_count": 40,
   "metadata": {
    "scrolled": false
   },
   "outputs": [
    {
     "name": "stdout",
     "output_type": "stream",
     "text": [
      "***********Total models to build are: 500**************\n",
      "Model:[1/500]\tAcc Score: 62.07\t Computing time: 0:00:00.001993\n",
      "Model:[2/500]\tAcc Score: 61.73\t Computing time: 0:00:00.000994\n",
      "Model:[3/500]\tAcc Score: 63.41\t Computing time: 0:00:00.000996\n",
      "Model:[4/500]\tAcc Score: 62.07\t Computing time: 0:00:00.001000\n",
      "Model:[5/500]\tAcc Score: 62.18\t Computing time: 0:00:00.002974\n",
      "Model:[6/500]\tAcc Score: 66.67\t Computing time: 0:00:00.002024\n",
      "Model:[7/500]\tAcc Score: 78.68\t Computing time: 0:00:00.001999\n",
      "Model:[8/500]\tAcc Score: 66.67\t Computing time: 0:00:00.001030\n",
      "Model:[9/500]\tAcc Score: 62.07\t Computing time: 0:00:00.000997\n",
      "Model:[10/500]\tAcc Score: 62.74\t Computing time: 0:00:00.000997\n",
      "Model:[11/500]\tAcc Score: 78.23\t Computing time: 0:00:00.001002\n",
      "Model:[12/500]\tAcc Score: 63.41\t Computing time: 0:00:00.000994\n",
      "Model:[13/500]\tAcc Score: 61.62\t Computing time: 0:00:00.001998\n",
      "Model:[14/500]\tAcc Score: 61.73\t Computing time: 0:00:00\n",
      "Model:[15/500]\tAcc Score: 63.41\t Computing time: 0:00:00.000993\n",
      "Model:[16/500]\tAcc Score: 66.78\t Computing time: 0:00:00.000964\n",
      "Model:[17/500]\tAcc Score: 62.07\t Computing time: 0:00:00.000966\n",
      "Model:[18/500]\tAcc Score: 66.67\t Computing time: 0:00:00.001004\n",
      "Model:[19/500]\tAcc Score: 62.74\t Computing time: 0:00:00.001001\n",
      "Model:[20/500]\tAcc Score: 78.23\t Computing time: 0:00:00.000972\n",
      "Model:[21/500]\tAcc Score: 78.23\t Computing time: 0:00:00.000996\n",
      "Model:[22/500]\tAcc Score: 78.68\t Computing time: 0:00:00.000998\n",
      "Model:[23/500]\tAcc Score: 78.23\t Computing time: 0:00:00.000975\n",
      "Model:[24/500]\tAcc Score: 78.23\t Computing time: 0:00:00.000970\n",
      "Model:[25/500]\tAcc Score: 66.78\t Computing time: 0:00:00.000997\n",
      "Model:[26/500]\tAcc Score: 78.23\t Computing time: 0:00:00.000995\n",
      "Model:[27/500]\tAcc Score: 78.68\t Computing time: 0:00:00.000970\n",
      "Model:[28/500]\tAcc Score: 62.18\t Computing time: 0:00:00\n",
      "Model:[29/500]\tAcc Score: 66.78\t Computing time: 0:00:00.000971\n",
      "Model:[30/500]\tAcc Score: 63.41\t Computing time: 0:00:00.000973\n",
      "Model:[31/500]\tAcc Score: 63.41\t Computing time: 0:00:00.000974\n",
      "Model:[32/500]\tAcc Score: 66.67\t Computing time: 0:00:00.000970\n",
      "Model:[33/500]\tAcc Score: 62.74\t Computing time: 0:00:00.000998\n",
      "Model:[34/500]\tAcc Score: 62.07\t Computing time: 0:00:00.000999\n",
      "Model:[35/500]\tAcc Score: 63.41\t Computing time: 0:00:00.000972\n",
      "Model:[36/500]\tAcc Score: 66.67\t Computing time: 0:00:00\n",
      "Model:[37/500]\tAcc Score: 66.78\t Computing time: 0:00:00.000993\n",
      "Model:[38/500]\tAcc Score: 78.23\t Computing time: 0:00:00.000975\n",
      "Model:[39/500]\tAcc Score: 66.78\t Computing time: 0:00:00.000973\n",
      "Model:[40/500]\tAcc Score: 62.07\t Computing time: 0:00:00.001021\n",
      "Model:[41/500]\tAcc Score: 78.68\t Computing time: 0:00:00.000971\n",
      "Model:[42/500]\tAcc Score: 78.68\t Computing time: 0:00:00.000972\n",
      "Model:[43/500]\tAcc Score: 78.23\t Computing time: 0:00:00.000997\n",
      "Model:[44/500]\tAcc Score: 78.23\t Computing time: 0:00:00.000995\n",
      "Model:[45/500]\tAcc Score: 61.73\t Computing time: 0:00:00.000973\n",
      "Model:[46/500]\tAcc Score: 78.23\t Computing time: 0:00:00\n",
      "Model:[47/500]\tAcc Score: 66.67\t Computing time: 0:00:00.001022\n",
      "Model:[48/500]\tAcc Score: 78.23\t Computing time: 0:00:00.000998\n",
      "Model:[49/500]\tAcc Score: 78.68\t Computing time: 0:00:00.001013\n",
      "Model:[50/500]\tAcc Score: 63.41\t Computing time: 0:00:00.000970\n",
      "Model:[51/500]\tAcc Score: 66.78\t Computing time: 0:00:00.000972\n",
      "Model:[52/500]\tAcc Score: 66.78\t Computing time: 0:00:00.000996\n",
      "Model:[53/500]\tAcc Score: 66.78\t Computing time: 0:00:00.000999\n",
      "Model:[54/500]\tAcc Score: 78.23\t Computing time: 0:00:00.000974\n",
      "Model:[55/500]\tAcc Score: 78.23\t Computing time: 0:00:00.000996\n",
      "Model:[56/500]\tAcc Score: 78.23\t Computing time: 0:00:00.001002\n",
      "Model:[57/500]\tAcc Score: 78.68\t Computing time: 0:00:00.000997\n",
      "Model:[58/500]\tAcc Score: 66.67\t Computing time: 0:00:00.000997\n",
      "Model:[59/500]\tAcc Score: 66.67\t Computing time: 0:00:00.000995\n",
      "Model:[60/500]\tAcc Score: 63.41\t Computing time: 0:00:00.000998\n",
      "Model:[61/500]\tAcc Score: 66.78\t Computing time: 0:00:00.000999\n",
      "Model:[62/500]\tAcc Score: 78.23\t Computing time: 0:00:00\n",
      "Model:[63/500]\tAcc Score: 66.67\t Computing time: 0:00:00.000998\n",
      "Model:[64/500]\tAcc Score: 66.78\t Computing time: 0:00:00.000995\n",
      "Model:[65/500]\tAcc Score: 78.23\t Computing time: 0:00:00.000975\n",
      "Model:[66/500]\tAcc Score: 66.78\t Computing time: 0:00:00.000974\n",
      "Model:[67/500]\tAcc Score: 78.68\t Computing time: 0:00:00.000995\n",
      "Model:[68/500]\tAcc Score: 78.23\t Computing time: 0:00:00.000972\n",
      "Model:[69/500]\tAcc Score: 78.23\t Computing time: 0:00:00.001002\n",
      "Model:[70/500]\tAcc Score: 78.68\t Computing time: 0:00:00.000976\n",
      "Model:[71/500]\tAcc Score: 63.41\t Computing time: 0:00:00.000999\n",
      "Model:[72/500]\tAcc Score: 78.68\t Computing time: 0:00:00.000997\n",
      "Model:[73/500]\tAcc Score: 66.78\t Computing time: 0:00:00\n",
      "Model:[74/500]\tAcc Score: 78.68\t Computing time: 0:00:00.001995\n",
      "Model:[75/500]\tAcc Score: 78.23\t Computing time: 0:00:00.001997\n",
      "Model:[76/500]\tAcc Score: 78.23\t Computing time: 0:00:00.001977\n",
      "Model:[77/500]\tAcc Score: 66.78\t Computing time: 0:00:00.000998\n",
      "Model:[78/500]\tAcc Score: 78.23\t Computing time: 0:00:00.000966\n",
      "Model:[79/500]\tAcc Score: 78.68\t Computing time: 0:00:00.000975\n",
      "Model:[80/500]\tAcc Score: 78.68\t Computing time: 0:00:00\n",
      "Model:[81/500]\tAcc Score: 78.68\t Computing time: 0:00:00.001979\n",
      "Model:[82/500]\tAcc Score: 78.23\t Computing time: 0:00:00.001021\n",
      "Model:[83/500]\tAcc Score: 78.23\t Computing time: 0:00:00.000973\n",
      "Model:[84/500]\tAcc Score: 78.68\t Computing time: 0:00:00.000975\n",
      "Model:[85/500]\tAcc Score: 78.23\t Computing time: 0:00:00\n",
      "Model:[86/500]\tAcc Score: 78.23\t Computing time: 0:00:00.001022\n",
      "Model:[87/500]\tAcc Score: 78.23\t Computing time: 0:00:00.000974\n",
      "Model:[88/500]\tAcc Score: 78.68\t Computing time: 0:00:00.000978\n",
      "Model:[89/500]\tAcc Score: 78.23\t Computing time: 0:00:00.000975\n",
      "Model:[90/500]\tAcc Score: 78.23\t Computing time: 0:00:00.001010\n",
      "Model:[91/500]\tAcc Score: 78.23\t Computing time: 0:00:00.000996\n",
      "Model:[92/500]\tAcc Score: 78.68\t Computing time: 0:00:00.000998\n",
      "Model:[93/500]\tAcc Score: 78.23\t Computing time: 0:00:00.001000\n",
      "Model:[94/500]\tAcc Score: 78.23\t Computing time: 0:00:00.000975\n",
      "Model:[95/500]\tAcc Score: 78.23\t Computing time: 0:00:00.000972\n",
      "Model:[96/500]\tAcc Score: 78.68\t Computing time: 0:00:00.000998\n",
      "Model:[97/500]\tAcc Score: 78.68\t Computing time: 0:00:00.000997\n",
      "Model:[98/500]\tAcc Score: 66.67\t Computing time: 0:00:00.000997\n",
      "Model:[99/500]\tAcc Score: 78.23\t Computing time: 0:00:00.001021\n",
      "Model:[100/500]\tAcc Score: 66.67\t Computing time: 0:00:00.000985\n",
      "Model:[101/500]\tAcc Score: 78.68\t Computing time: 0:00:00.000972\n",
      "Model:[102/500]\tAcc Score: 66.67\t Computing time: 0:00:00.000994\n",
      "Model:[103/500]\tAcc Score: 64.2\t Computing time: 0:00:00.001149\n",
      "Model:[104/500]\tAcc Score: 64.2\t Computing time: 0:00:00.000973\n",
      "Model:[105/500]\tAcc Score: 78.68\t Computing time: 0:00:00.000998\n",
      "Model:[106/500]\tAcc Score: 64.2\t Computing time: 0:00:00.000998\n",
      "Model:[107/500]\tAcc Score: 68.24\t Computing time: 0:00:00.001993\n",
      "Model:[108/500]\tAcc Score: 73.74\t Computing time: 0:00:00.001994\n",
      "Model:[109/500]\tAcc Score: 62.07\t Computing time: 0:00:00.001022\n",
      "Model:[110/500]\tAcc Score: 78.68\t Computing time: 0:00:00.000987\n",
      "Model:[111/500]\tAcc Score: 69.81\t Computing time: 0:00:00.000974\n",
      "Model:[112/500]\tAcc Score: 68.69\t Computing time: 0:00:00.000974\n",
      "Model:[113/500]\tAcc Score: 61.62\t Computing time: 0:00:00.000997\n",
      "Model:[114/500]\tAcc Score: 66.78\t Computing time: 0:00:00.000983\n",
      "Model:[115/500]\tAcc Score: 63.08\t Computing time: 0:00:00.000976\n",
      "Model:[116/500]\tAcc Score: 66.22\t Computing time: 0:00:00.001000\n",
      "Model:[117/500]\tAcc Score: 63.41\t Computing time: 0:00:00.001943\n",
      "Model:[118/500]\tAcc Score: 66.78\t Computing time: 0:00:00.000996\n",
      "Model:[119/500]\tAcc Score: 63.86\t Computing time: 0:00:00.001021\n",
      "Model:[120/500]\tAcc Score: 74.07\t Computing time: 0:00:00.000972\n",
      "Model:[121/500]\tAcc Score: 62.07\t Computing time: 0:00:00.002005\n",
      "Model:[122/500]\tAcc Score: 78.9\t Computing time: 0:00:00.000996\n",
      "Model:[123/500]\tAcc Score: 79.24\t Computing time: 0:00:00.001000\n",
      "Model:[124/500]\tAcc Score: 78.68\t Computing time: 0:00:00.000974\n",
      "Model:[125/500]\tAcc Score: 78.68\t Computing time: 0:00:00.000972\n",
      "Model:[126/500]\tAcc Score: 70.15\t Computing time: 0:00:00.000998\n",
      "Model:[127/500]\tAcc Score: 73.96\t Computing time: 0:00:00.001024\n",
      "Model:[128/500]\tAcc Score: 66.67\t Computing time: 0:00:00.000970\n",
      "Model:[129/500]\tAcc Score: 66.67\t Computing time: 0:00:00\n",
      "Model:[130/500]\tAcc Score: 70.37\t Computing time: 0:00:00.000998\n",
      "Model:[131/500]\tAcc Score: 64.2\t Computing time: 0:00:00\n",
      "Model:[132/500]\tAcc Score: 81.03\t Computing time: 0:00:00.000972\n",
      "Model:[133/500]\tAcc Score: 78.68\t Computing time: 0:00:00.000998\n",
      "Model:[134/500]\tAcc Score: 78.9\t Computing time: 0:00:00.000973\n",
      "Model:[135/500]\tAcc Score: 78.9\t Computing time: 0:00:00.001023\n",
      "Model:[136/500]\tAcc Score: 74.97\t Computing time: 0:00:00.000997\n",
      "Model:[137/500]\tAcc Score: 78.68\t Computing time: 0:00:00.000974\n",
      "Model:[138/500]\tAcc Score: 70.03\t Computing time: 0:00:00.000971\n",
      "Model:[139/500]\tAcc Score: 78.68\t Computing time: 0:00:00.001000\n",
      "Model:[140/500]\tAcc Score: 70.37\t Computing time: 0:00:00.000971\n",
      "Model:[141/500]\tAcc Score: 66.67\t Computing time: 0:00:00.000968\n",
      "Model:[142/500]\tAcc Score: 74.97\t Computing time: 0:00:00.000998\n",
      "Model:[143/500]\tAcc Score: 78.68\t Computing time: 0:00:00.000998\n",
      "Model:[144/500]\tAcc Score: 81.03\t Computing time: 0:00:00\n",
      "Model:[145/500]\tAcc Score: 66.67\t Computing time: 0:00:00.000966\n",
      "Model:[146/500]\tAcc Score: 78.68\t Computing time: 0:00:00.000970\n",
      "Model:[147/500]\tAcc Score: 70.03\t Computing time: 0:00:00.000970\n",
      "Model:[148/500]\tAcc Score: 78.68\t Computing time: 0:00:00.001996\n",
      "Model:[149/500]\tAcc Score: 78.23\t Computing time: 0:00:00.000997\n",
      "Model:[150/500]\tAcc Score: 78.34\t Computing time: 0:00:00.000997\n",
      "Model:[151/500]\tAcc Score: 81.71\t Computing time: 0:00:00.000998\n",
      "Model:[152/500]\tAcc Score: 78.68\t Computing time: 0:00:00\n",
      "Model:[153/500]\tAcc Score: 63.41\t Computing time: 0:00:00.000998\n"
     ]
    },
    {
     "name": "stdout",
     "output_type": "stream",
     "text": [
      "Model:[154/500]\tAcc Score: 78.9\t Computing time: 0:00:00.000978\n",
      "Model:[155/500]\tAcc Score: 78.68\t Computing time: 0:00:00.000998\n",
      "Model:[156/500]\tAcc Score: 69.58\t Computing time: 0:00:00.000973\n",
      "Model:[157/500]\tAcc Score: 66.78\t Computing time: 0:00:00.000978\n",
      "Model:[158/500]\tAcc Score: 69.25\t Computing time: 0:00:00.000998\n",
      "Model:[159/500]\tAcc Score: 78.23\t Computing time: 0:00:00.000974\n",
      "Model:[160/500]\tAcc Score: 69.58\t Computing time: 0:00:00.000974\n",
      "Model:[161/500]\tAcc Score: 78.68\t Computing time: 0:00:00.000973\n",
      "Model:[162/500]\tAcc Score: 74.52\t Computing time: 0:00:00.001000\n",
      "Model:[163/500]\tAcc Score: 78.56\t Computing time: 0:00:00.000994\n",
      "Model:[164/500]\tAcc Score: 78.68\t Computing time: 0:00:00.000969\n",
      "Model:[165/500]\tAcc Score: 66.78\t Computing time: 0:00:00.000972\n",
      "Model:[166/500]\tAcc Score: 78.68\t Computing time: 0:00:00.000998\n",
      "Model:[167/500]\tAcc Score: 78.68\t Computing time: 0:00:00.000996\n",
      "Model:[168/500]\tAcc Score: 70.37\t Computing time: 0:00:00.001995\n",
      "Model:[169/500]\tAcc Score: 78.68\t Computing time: 0:00:00.000998\n",
      "Model:[170/500]\tAcc Score: 74.52\t Computing time: 0:00:00\n",
      "Model:[171/500]\tAcc Score: 78.68\t Computing time: 0:00:00.000997\n",
      "Model:[172/500]\tAcc Score: 78.68\t Computing time: 0:00:00.000965\n",
      "Model:[173/500]\tAcc Score: 78.23\t Computing time: 0:00:00.000967\n",
      "Model:[174/500]\tAcc Score: 66.78\t Computing time: 0:00:00.000967\n",
      "Model:[175/500]\tAcc Score: 78.79\t Computing time: 0:00:00.001044\n",
      "Model:[176/500]\tAcc Score: 81.71\t Computing time: 0:00:00.000995\n",
      "Model:[177/500]\tAcc Score: 78.68\t Computing time: 0:00:00.000998\n",
      "Model:[178/500]\tAcc Score: 74.97\t Computing time: 0:00:00.000972\n",
      "Model:[179/500]\tAcc Score: 78.68\t Computing time: 0:00:00.000997\n",
      "Model:[180/500]\tAcc Score: 78.9\t Computing time: 0:00:00.000974\n",
      "Model:[181/500]\tAcc Score: 78.23\t Computing time: 0:00:00.000976\n",
      "Model:[182/500]\tAcc Score: 81.71\t Computing time: 0:00:00.000997\n",
      "Model:[183/500]\tAcc Score: 81.71\t Computing time: 0:00:00.001955\n",
      "Model:[184/500]\tAcc Score: 81.71\t Computing time: 0:00:00\n",
      "Model:[185/500]\tAcc Score: 78.68\t Computing time: 0:00:00.000970\n",
      "Model:[186/500]\tAcc Score: 81.03\t Computing time: 0:00:00.000997\n",
      "Model:[187/500]\tAcc Score: 81.71\t Computing time: 0:00:00.000974\n",
      "Model:[188/500]\tAcc Score: 81.71\t Computing time: 0:00:00.000998\n",
      "Model:[189/500]\tAcc Score: 78.23\t Computing time: 0:00:00.000977\n",
      "Model:[190/500]\tAcc Score: 78.9\t Computing time: 0:00:00.000966\n",
      "Model:[191/500]\tAcc Score: 80.36\t Computing time: 0:00:00.001994\n",
      "Model:[192/500]\tAcc Score: 78.9\t Computing time: 0:00:00.000997\n",
      "Model:[193/500]\tAcc Score: 78.23\t Computing time: 0:00:00.000998\n",
      "Model:[194/500]\tAcc Score: 70.03\t Computing time: 0:00:00.000998\n",
      "Model:[195/500]\tAcc Score: 81.71\t Computing time: 0:00:00.000995\n",
      "Model:[196/500]\tAcc Score: 79.69\t Computing time: 0:00:00.000999\n",
      "Model:[197/500]\tAcc Score: 62.07\t Computing time: 0:00:00.000998\n",
      "Model:[198/500]\tAcc Score: 78.9\t Computing time: 0:00:00.000998\n",
      "Model:[199/500]\tAcc Score: 78.68\t Computing time: 0:00:00.000998\n",
      "Model:[200/500]\tAcc Score: 80.36\t Computing time: 0:00:00.000998\n",
      "Model:[201/500]\tAcc Score: 62.07\t Computing time: 0:00:00.000996\n",
      "Model:[202/500]\tAcc Score: 70.59\t Computing time: 0:00:00.000968\n",
      "Model:[203/500]\tAcc Score: 68.91\t Computing time: 0:00:00.000996\n",
      "Model:[204/500]\tAcc Score: 66.44\t Computing time: 0:00:00.001032\n",
      "Model:[205/500]\tAcc Score: 66.78\t Computing time: 0:00:00.000971\n",
      "Model:[206/500]\tAcc Score: 69.81\t Computing time: 0:00:00\n",
      "Model:[207/500]\tAcc Score: 73.29\t Computing time: 0:00:00.000994\n",
      "Model:[208/500]\tAcc Score: 78.79\t Computing time: 0:00:00.001022\n",
      "Model:[209/500]\tAcc Score: 78.68\t Computing time: 0:00:00.000973\n",
      "Model:[210/500]\tAcc Score: 78.68\t Computing time: 0:00:00.000974\n",
      "Model:[211/500]\tAcc Score: 71.16\t Computing time: 0:00:00.000975\n",
      "Model:[212/500]\tAcc Score: 68.01\t Computing time: 0:00:00.000997\n",
      "Model:[213/500]\tAcc Score: 62.74\t Computing time: 0:00:00.000993\n",
      "Model:[214/500]\tAcc Score: 62.07\t Computing time: 0:00:00.000973\n",
      "Model:[215/500]\tAcc Score: 61.73\t Computing time: 0:00:00.000967\n",
      "Model:[216/500]\tAcc Score: 76.21\t Computing time: 0:00:00.000981\n",
      "Model:[217/500]\tAcc Score: 62.07\t Computing time: 0:00:00.000974\n",
      "Model:[218/500]\tAcc Score: 69.25\t Computing time: 0:00:00.000973\n",
      "Model:[219/500]\tAcc Score: 63.86\t Computing time: 0:00:00.000998\n",
      "Model:[220/500]\tAcc Score: 74.41\t Computing time: 0:00:00.000997\n",
      "Model:[221/500]\tAcc Score: 63.41\t Computing time: 0:00:00.000976\n",
      "Model:[222/500]\tAcc Score: 81.03\t Computing time: 0:00:00\n",
      "Model:[223/500]\tAcc Score: 81.48\t Computing time: 0:00:00.000997\n",
      "Model:[224/500]\tAcc Score: 77.1\t Computing time: 0:00:00.000971\n",
      "Model:[225/500]\tAcc Score: 78.68\t Computing time: 0:00:00.000975\n",
      "Model:[226/500]\tAcc Score: 66.78\t Computing time: 0:00:00.000997\n",
      "Model:[227/500]\tAcc Score: 63.52\t Computing time: 0:00:00.000970\n",
      "Model:[228/500]\tAcc Score: 74.97\t Computing time: 0:00:00.000971\n",
      "Model:[229/500]\tAcc Score: 62.07\t Computing time: 0:00:00.000997\n",
      "Model:[230/500]\tAcc Score: 71.04\t Computing time: 0:00:00.000997\n",
      "Model:[231/500]\tAcc Score: 78.23\t Computing time: 0:00:00.000998\n",
      "Model:[232/500]\tAcc Score: 75.08\t Computing time: 0:00:00.000998\n",
      "Model:[233/500]\tAcc Score: 61.73\t Computing time: 0:00:00.001029\n",
      "Model:[234/500]\tAcc Score: 80.36\t Computing time: 0:00:00.000996\n",
      "Model:[235/500]\tAcc Score: 67.9\t Computing time: 0:00:00.001011\n",
      "Model:[236/500]\tAcc Score: 81.71\t Computing time: 0:00:00.001029\n",
      "Model:[237/500]\tAcc Score: 66.78\t Computing time: 0:00:00.000972\n",
      "Model:[238/500]\tAcc Score: 78.68\t Computing time: 0:00:00.000974\n",
      "Model:[239/500]\tAcc Score: 74.86\t Computing time: 0:00:00.000997\n",
      "Model:[240/500]\tAcc Score: 77.89\t Computing time: 0:00:00.001001\n",
      "Model:[241/500]\tAcc Score: 66.67\t Computing time: 0:00:00.000974\n",
      "Model:[242/500]\tAcc Score: 78.68\t Computing time: 0:00:00.000973\n",
      "Model:[243/500]\tAcc Score: 80.36\t Computing time: 0:00:00.001996\n",
      "Model:[244/500]\tAcc Score: 76.88\t Computing time: 0:00:00.000974\n",
      "Model:[245/500]\tAcc Score: 78.68\t Computing time: 0:00:00\n",
      "Model:[246/500]\tAcc Score: 66.78\t Computing time: 0:00:00.000997\n",
      "Model:[247/500]\tAcc Score: 81.03\t Computing time: 0:00:00.001026\n",
      "Model:[248/500]\tAcc Score: 79.24\t Computing time: 0:00:00.000964\n",
      "Model:[249/500]\tAcc Score: 62.18\t Computing time: 0:00:00.000961\n",
      "Model:[250/500]\tAcc Score: 66.78\t Computing time: 0:00:00.000997\n",
      "Model:[251/500]\tAcc Score: 78.68\t Computing time: 0:00:00.000996\n",
      "Model:[252/500]\tAcc Score: 80.36\t Computing time: 0:00:00.000998\n",
      "Model:[253/500]\tAcc Score: 78.23\t Computing time: 0:00:00.000974\n",
      "Model:[254/500]\tAcc Score: 74.97\t Computing time: 0:00:00.000970\n",
      "Model:[255/500]\tAcc Score: 80.36\t Computing time: 0:00:00.000994\n",
      "Model:[256/500]\tAcc Score: 79.8\t Computing time: 0:00:00.000998\n",
      "Model:[257/500]\tAcc Score: 78.23\t Computing time: 0:00:00.000970\n",
      "Model:[258/500]\tAcc Score: 69.25\t Computing time: 0:00:00.000995\n",
      "Model:[259/500]\tAcc Score: 81.71\t Computing time: 0:00:00.000997\n",
      "Model:[260/500]\tAcc Score: 78.34\t Computing time: 0:00:00.001995\n",
      "Model:[261/500]\tAcc Score: 78.23\t Computing time: 0:00:00.000974\n",
      "Model:[262/500]\tAcc Score: 81.71\t Computing time: 0:00:00.000998\n",
      "Model:[263/500]\tAcc Score: 78.68\t Computing time: 0:00:00.000986\n",
      "Model:[264/500]\tAcc Score: 80.47\t Computing time: 0:00:00.000975\n",
      "Model:[265/500]\tAcc Score: 78.23\t Computing time: 0:00:00.000974\n",
      "Model:[266/500]\tAcc Score: 69.25\t Computing time: 0:00:00.000997\n",
      "Model:[267/500]\tAcc Score: 79.69\t Computing time: 0:00:00.000973\n",
      "Model:[268/500]\tAcc Score: 81.03\t Computing time: 0:00:00.000975\n",
      "Model:[269/500]\tAcc Score: 78.23\t Computing time: 0:00:00.001992\n",
      "Model:[270/500]\tAcc Score: 66.78\t Computing time: 0:00:00.000974\n",
      "Model:[271/500]\tAcc Score: 78.9\t Computing time: 0:00:00.000977\n",
      "Model:[272/500]\tAcc Score: 80.36\t Computing time: 0:00:00.000968\n",
      "Model:[273/500]\tAcc Score: 78.68\t Computing time: 0:00:00.001001\n",
      "Model:[274/500]\tAcc Score: 78.9\t Computing time: 0:00:00.000969\n",
      "Model:[275/500]\tAcc Score: 78.34\t Computing time: 0:00:00.000974\n",
      "Model:[276/500]\tAcc Score: 80.02\t Computing time: 0:00:00.002036\n",
      "Model:[277/500]\tAcc Score: 78.68\t Computing time: 0:00:00.000995\n",
      "Model:[278/500]\tAcc Score: 78.9\t Computing time: 0:00:00.000995\n",
      "Model:[279/500]\tAcc Score: 74.07\t Computing time: 0:00:00.000974\n",
      "Model:[280/500]\tAcc Score: 81.14\t Computing time: 0:00:00.000971\n"
     ]
    },
    {
     "name": "stdout",
     "output_type": "stream",
     "text": [
      "Model:[281/500]\tAcc Score: 66.78\t Computing time: 0:00:00.000973\n",
      "Model:[282/500]\tAcc Score: 78.9\t Computing time: 0:00:00.000997\n",
      "Model:[283/500]\tAcc Score: 78.68\t Computing time: 0:00:00.000997\n",
      "Model:[284/500]\tAcc Score: 83.16\t Computing time: 0:00:00.000997\n",
      "Model:[285/500]\tAcc Score: 78.68\t Computing time: 0:00:00.000994\n",
      "Model:[286/500]\tAcc Score: 74.97\t Computing time: 0:00:00.000973\n",
      "Model:[287/500]\tAcc Score: 78.68\t Computing time: 0:00:00.000997\n",
      "Model:[288/500]\tAcc Score: 78.56\t Computing time: 0:00:00.000997\n",
      "Model:[289/500]\tAcc Score: 78.68\t Computing time: 0:00:00.001000\n",
      "Model:[290/500]\tAcc Score: 80.36\t Computing time: 0:00:00.000973\n",
      "Model:[291/500]\tAcc Score: 78.68\t Computing time: 0:00:00.000971\n",
      "Model:[292/500]\tAcc Score: 80.02\t Computing time: 0:00:00.000975\n",
      "Model:[293/500]\tAcc Score: 66.78\t Computing time: 0:00:00.001995\n",
      "Model:[294/500]\tAcc Score: 78.68\t Computing time: 0:00:00.000996\n",
      "Model:[295/500]\tAcc Score: 78.68\t Computing time: 0:00:00.000996\n",
      "Model:[296/500]\tAcc Score: 81.03\t Computing time: 0:00:00.000975\n",
      "Model:[297/500]\tAcc Score: 66.67\t Computing time: 0:00:00.000974\n",
      "Model:[298/500]\tAcc Score: 78.9\t Computing time: 0:00:00.000996\n",
      "Model:[299/500]\tAcc Score: 74.97\t Computing time: 0:00:00.000997\n",
      "Model:[300/500]\tAcc Score: 80.7\t Computing time: 0:00:00.000985\n",
      "Model:[301/500]\tAcc Score: 61.73\t Computing time: 0:00:00.000999\n",
      "Model:[302/500]\tAcc Score: 67.23\t Computing time: 0:00:00.000998\n",
      "Model:[303/500]\tAcc Score: 70.15\t Computing time: 0:00:00.001970\n",
      "Model:[304/500]\tAcc Score: 65.99\t Computing time: 0:00:00.000970\n",
      "Model:[305/500]\tAcc Score: 66.67\t Computing time: 0:00:00.000999\n",
      "Model:[306/500]\tAcc Score: 74.86\t Computing time: 0:00:00.000974\n",
      "Model:[307/500]\tAcc Score: 78.68\t Computing time: 0:00:00.000974\n",
      "Model:[308/500]\tAcc Score: 72.5\t Computing time: 0:00:00.000996\n",
      "Model:[309/500]\tAcc Score: 63.41\t Computing time: 0:00:00.000985\n",
      "Model:[310/500]\tAcc Score: 65.99\t Computing time: 0:00:00.000998\n",
      "Model:[311/500]\tAcc Score: 66.78\t Computing time: 0:00:00.000997\n",
      "Model:[312/500]\tAcc Score: 77.67\t Computing time: 0:00:00.000998\n",
      "Model:[313/500]\tAcc Score: 62.07\t Computing time: 0:00:00.000999\n",
      "Model:[314/500]\tAcc Score: 65.66\t Computing time: 0:00:00.000588\n",
      "Model:[315/500]\tAcc Score: 62.74\t Computing time: 0:00:00.001609\n",
      "Model:[316/500]\tAcc Score: 78.68\t Computing time: 0:00:00.000923\n",
      "Model:[317/500]\tAcc Score: 66.78\t Computing time: 0:00:00.001510\n",
      "Model:[318/500]\tAcc Score: 64.2\t Computing time: 0:00:00.000995\n",
      "Model:[319/500]\tAcc Score: 78.68\t Computing time: 0:00:00.000997\n",
      "Model:[320/500]\tAcc Score: 73.63\t Computing time: 0:00:00.000997\n",
      "Model:[321/500]\tAcc Score: 78.23\t Computing time: 0:00:00.000982\n",
      "Model:[322/500]\tAcc Score: 67.34\t Computing time: 0:00:00.000972\n",
      "Model:[323/500]\tAcc Score: 78.68\t Computing time: 0:00:00.001000\n",
      "Model:[324/500]\tAcc Score: 78.68\t Computing time: 0:00:00.000996\n",
      "Model:[325/500]\tAcc Score: 78.23\t Computing time: 0:00:00.000973\n",
      "Model:[326/500]\tAcc Score: 69.81\t Computing time: 0:00:00.000972\n",
      "Model:[327/500]\tAcc Score: 77.67\t Computing time: 0:00:00.000997\n",
      "Model:[328/500]\tAcc Score: 76.88\t Computing time: 0:00:00.000997\n",
      "Model:[329/500]\tAcc Score: 66.67\t Computing time: 0:00:00.001022\n",
      "Model:[330/500]\tAcc Score: 70.03\t Computing time: 0:00:00.000973\n",
      "Model:[331/500]\tAcc Score: 70.82\t Computing time: 0:00:00.000995\n",
      "Model:[332/500]\tAcc Score: 74.07\t Computing time: 0:00:00.000974\n",
      "Model:[333/500]\tAcc Score: 78.23\t Computing time: 0:00:00\n",
      "Model:[334/500]\tAcc Score: 78.68\t Computing time: 0:00:00.000998\n",
      "Model:[335/500]\tAcc Score: 62.96\t Computing time: 0:00:00.000975\n",
      "Model:[336/500]\tAcc Score: 74.86\t Computing time: 0:00:00.000999\n",
      "Model:[337/500]\tAcc Score: 66.78\t Computing time: 0:00:00.000997\n",
      "Model:[338/500]\tAcc Score: 74.52\t Computing time: 0:00:00.000974\n",
      "Model:[339/500]\tAcc Score: 70.26\t Computing time: 0:00:00\n",
      "Model:[340/500]\tAcc Score: 79.91\t Computing time: 0:00:00.000997\n",
      "Model:[341/500]\tAcc Score: 66.67\t Computing time: 0:00:00.000997\n",
      "Model:[342/500]\tAcc Score: 78.34\t Computing time: 0:00:00.000974\n",
      "Model:[343/500]\tAcc Score: 78.68\t Computing time: 0:00:00.001022\n",
      "Model:[344/500]\tAcc Score: 80.13\t Computing time: 0:00:00.000999\n",
      "Model:[345/500]\tAcc Score: 66.67\t Computing time: 0:00:00.000973\n",
      "Model:[346/500]\tAcc Score: 69.81\t Computing time: 0:00:00.000996\n",
      "Model:[347/500]\tAcc Score: 79.01\t Computing time: 0:00:00.001995\n",
      "Model:[348/500]\tAcc Score: 80.47\t Computing time: 0:00:00.000997\n",
      "Model:[349/500]\tAcc Score: 66.67\t Computing time: 0:00:00.000996\n",
      "Model:[350/500]\tAcc Score: 74.97\t Computing time: 0:00:00.000997\n",
      "Model:[351/500]\tAcc Score: 70.71\t Computing time: 0:00:00.001995\n",
      "Model:[352/500]\tAcc Score: 82.49\t Computing time: 0:00:00.001995\n",
      "Model:[353/500]\tAcc Score: 78.23\t Computing time: 0:00:00.001994\n",
      "Model:[354/500]\tAcc Score: 78.9\t Computing time: 0:00:00.001995\n",
      "Model:[355/500]\tAcc Score: 81.03\t Computing time: 0:00:00.000998\n",
      "Model:[356/500]\tAcc Score: 72.95\t Computing time: 0:00:00.000998\n",
      "Model:[357/500]\tAcc Score: 78.23\t Computing time: 0:00:00.002993\n",
      "Model:[358/500]\tAcc Score: 70.59\t Computing time: 0:00:00.001989\n",
      "Model:[359/500]\tAcc Score: 69.81\t Computing time: 0:00:00.001000\n",
      "Model:[360/500]\tAcc Score: 82.49\t Computing time: 0:00:00.000999\n",
      "Model:[361/500]\tAcc Score: 78.68\t Computing time: 0:00:00.000997\n",
      "Model:[362/500]\tAcc Score: 74.86\t Computing time: 0:00:00.000997\n",
      "Model:[363/500]\tAcc Score: 78.68\t Computing time: 0:00:00.001996\n",
      "Model:[364/500]\tAcc Score: 82.15\t Computing time: 0:00:00.001993\n",
      "Model:[365/500]\tAcc Score: 78.68\t Computing time: 0:00:00.000995\n",
      "Model:[366/500]\tAcc Score: 78.68\t Computing time: 0:00:00.000999\n",
      "Model:[367/500]\tAcc Score: 76.43\t Computing time: 0:00:00.001026\n",
      "Model:[368/500]\tAcc Score: 80.36\t Computing time: 0:00:00.000967\n",
      "Model:[369/500]\tAcc Score: 78.23\t Computing time: 0:00:00.000966\n",
      "Model:[370/500]\tAcc Score: 69.81\t Computing time: 0:00:00.001938\n",
      "Model:[371/500]\tAcc Score: 81.71\t Computing time: 0:00:00.000996\n",
      "Model:[372/500]\tAcc Score: 80.36\t Computing time: 0:00:00.000965\n",
      "Model:[373/500]\tAcc Score: 63.41\t Computing time: 0:00:00.000998\n",
      "Model:[374/500]\tAcc Score: 81.71\t Computing time: 0:00:00.001029\n",
      "Model:[375/500]\tAcc Score: 81.03\t Computing time: 0:00:00.000974\n",
      "Model:[376/500]\tAcc Score: 79.24\t Computing time: 0:00:00.000974\n",
      "Model:[377/500]\tAcc Score: 78.23\t Computing time: 0:00:00\n",
      "Model:[378/500]\tAcc Score: 67.12\t Computing time: 0:00:00.000998\n",
      "Model:[379/500]\tAcc Score: 78.34\t Computing time: 0:00:00.000998\n",
      "Model:[380/500]\tAcc Score: 81.03\t Computing time: 0:00:00.001028\n",
      "Model:[381/500]\tAcc Score: 78.23\t Computing time: 0:00:00.000974\n",
      "Model:[382/500]\tAcc Score: 78.9\t Computing time: 0:00:00.000973\n",
      "Model:[383/500]\tAcc Score: 81.71\t Computing time: 0:00:00.000971\n",
      "Model:[384/500]\tAcc Score: 81.71\t Computing time: 0:00:00.000973\n",
      "Model:[385/500]\tAcc Score: 78.68\t Computing time: 0:00:00.000999\n",
      "Model:[386/500]\tAcc Score: 74.86\t Computing time: 0:00:00.001000\n",
      "Model:[387/500]\tAcc Score: 80.36\t Computing time: 0:00:00.000995\n",
      "Model:[388/500]\tAcc Score: 79.01\t Computing time: 0:00:00.001994\n",
      "Model:[389/500]\tAcc Score: 78.68\t Computing time: 0:00:00.000997\n",
      "Model:[390/500]\tAcc Score: 78.68\t Computing time: 0:00:00.001028\n",
      "Model:[391/500]\tAcc Score: 72.62\t Computing time: 0:00:00.000996\n",
      "Model:[392/500]\tAcc Score: 81.71\t Computing time: 0:00:00.000973\n",
      "Model:[393/500]\tAcc Score: 78.68\t Computing time: 0:00:00.000974\n",
      "Model:[394/500]\tAcc Score: 81.71\t Computing time: 0:00:00.000973\n",
      "Model:[395/500]\tAcc Score: 81.71\t Computing time: 0:00:00.000995\n",
      "Model:[396/500]\tAcc Score: 79.01\t Computing time: 0:00:00.000997\n",
      "Model:[397/500]\tAcc Score: 78.68\t Computing time: 0:00:00.001034\n",
      "Model:[398/500]\tAcc Score: 74.52\t Computing time: 0:00:00.000959\n",
      "Model:[399/500]\tAcc Score: 81.71\t Computing time: 0:00:00.000998\n",
      "Model:[400/500]\tAcc Score: 81.71\t Computing time: 0:00:00.000971\n",
      "Model:[401/500]\tAcc Score: 62.18\t Computing time: 0:00:00.000960\n",
      "Model:[402/500]\tAcc Score: 63.3\t Computing time: 0:00:00.001979\n",
      "Model:[403/500]\tAcc Score: 62.74\t Computing time: 0:00:00.000973\n",
      "Model:[404/500]\tAcc Score: 79.46\t Computing time: 0:00:00.000975\n",
      "Model:[405/500]\tAcc Score: 62.07\t Computing time: 0:00:00.000974\n",
      "Model:[406/500]\tAcc Score: 62.07\t Computing time: 0:00:00\n",
      "Model:[407/500]\tAcc Score: 78.68\t Computing time: 0:00:00.000973\n",
      "Model:[408/500]\tAcc Score: 65.43\t Computing time: 0:00:00.000996\n",
      "Model:[409/500]\tAcc Score: 62.18\t Computing time: 0:00:00.000998\n",
      "Model:[410/500]\tAcc Score: 73.96\t Computing time: 0:00:00\n",
      "Model:[411/500]\tAcc Score: 69.02\t Computing time: 0:00:00.000997\n",
      "Model:[412/500]\tAcc Score: 71.38\t Computing time: 0:00:00.001171\n",
      "Model:[413/500]\tAcc Score: 63.41\t Computing time: 0:00:00.000997\n",
      "Model:[414/500]\tAcc Score: 65.99\t Computing time: 0:00:00.000973\n",
      "Model:[415/500]\tAcc Score: 64.2\t Computing time: 0:00:00.000972\n",
      "Model:[416/500]\tAcc Score: 74.86\t Computing time: 0:00:00.000996\n",
      "Model:[417/500]\tAcc Score: 62.18\t Computing time: 0:00:00.000997\n",
      "Model:[418/500]\tAcc Score: 74.97\t Computing time: 0:00:00.000973\n",
      "Model:[419/500]\tAcc Score: 70.03\t Computing time: 0:00:00\n",
      "Model:[420/500]\tAcc Score: 80.47\t Computing time: 0:00:00.002017\n",
      "Model:[421/500]\tAcc Score: 62.07\t Computing time: 0:00:00.001021\n",
      "Model:[422/500]\tAcc Score: 70.37\t Computing time: 0:00:00\n",
      "Model:[423/500]\tAcc Score: 78.68\t Computing time: 0:00:00.001021\n",
      "Model:[424/500]\tAcc Score: 74.41\t Computing time: 0:00:00.000974\n",
      "Model:[425/500]\tAcc Score: 62.07\t Computing time: 0:00:00.000974\n",
      "Model:[426/500]\tAcc Score: 67.45\t Computing time: 0:00:00.000997\n",
      "Model:[427/500]\tAcc Score: 81.03\t Computing time: 0:00:00.000992\n",
      "Model:[428/500]\tAcc Score: 77.1\t Computing time: 0:00:00.000975\n",
      "Model:[429/500]\tAcc Score: 66.78\t Computing time: 0:00:00\n",
      "Model:[430/500]\tAcc Score: 69.58\t Computing time: 0:00:00.000997\n",
      "Model:[431/500]\tAcc Score: 70.37\t Computing time: 0:00:00\n",
      "Model:[432/500]\tAcc Score: 73.74\t Computing time: 0:00:00.000997\n"
     ]
    },
    {
     "name": "stdout",
     "output_type": "stream",
     "text": [
      "Model:[433/500]\tAcc Score: 62.74\t Computing time: 0:00:00.000971\n",
      "Model:[434/500]\tAcc Score: 69.25\t Computing time: 0:00:00.000974\n",
      "Model:[435/500]\tAcc Score: 76.43\t Computing time: 0:00:00.001019\n",
      "Model:[436/500]\tAcc Score: 71.72\t Computing time: 0:00:00.000973\n",
      "Model:[437/500]\tAcc Score: 78.23\t Computing time: 0:00:00.000973\n",
      "Model:[438/500]\tAcc Score: 78.9\t Computing time: 0:00:00.001004\n",
      "Model:[439/500]\tAcc Score: 76.99\t Computing time: 0:00:00.001020\n",
      "Model:[440/500]\tAcc Score: 76.32\t Computing time: 0:00:00.000980\n",
      "Model:[441/500]\tAcc Score: 66.67\t Computing time: 0:00:00.000963\n",
      "Model:[442/500]\tAcc Score: 70.59\t Computing time: 0:00:00.000973\n",
      "Model:[443/500]\tAcc Score: 78.68\t Computing time: 0:00:00.000998\n",
      "Model:[444/500]\tAcc Score: 69.81\t Computing time: 0:00:00.000997\n",
      "Model:[445/500]\tAcc Score: 78.23\t Computing time: 0:00:00.001020\n",
      "Model:[446/500]\tAcc Score: 78.9\t Computing time: 0:00:00.000998\n",
      "Model:[447/500]\tAcc Score: 80.02\t Computing time: 0:00:00.000996\n",
      "Model:[448/500]\tAcc Score: 78.68\t Computing time: 0:00:00.001004\n",
      "Model:[449/500]\tAcc Score: 66.67\t Computing time: 0:00:00.000965\n",
      "Model:[450/500]\tAcc Score: 70.59\t Computing time: 0:00:00.001967\n",
      "Model:[451/500]\tAcc Score: 68.24\t Computing time: 0:00:00.000997\n",
      "Model:[452/500]\tAcc Score: 78.9\t Computing time: 0:00:00.000965\n",
      "Model:[453/500]\tAcc Score: 66.67\t Computing time: 0:00:00.000967\n",
      "Model:[454/500]\tAcc Score: 78.68\t Computing time: 0:00:00.000997\n",
      "Model:[455/500]\tAcc Score: 70.59\t Computing time: 0:00:00.000988\n",
      "Model:[456/500]\tAcc Score: 79.69\t Computing time: 0:00:00.000999\n",
      "Model:[457/500]\tAcc Score: 63.41\t Computing time: 0:00:00.000974\n",
      "Model:[458/500]\tAcc Score: 74.64\t Computing time: 0:00:00.000973\n",
      "Model:[459/500]\tAcc Score: 81.37\t Computing time: 0:00:00.000974\n",
      "Model:[460/500]\tAcc Score: 80.36\t Computing time: 0:00:00\n",
      "Model:[461/500]\tAcc Score: 78.23\t Computing time: 0:00:00.000967\n",
      "Model:[462/500]\tAcc Score: 80.36\t Computing time: 0:00:00.000997\n",
      "Model:[463/500]\tAcc Score: 78.23\t Computing time: 0:00:00.001030\n",
      "Model:[464/500]\tAcc Score: 79.8\t Computing time: 0:00:00.001020\n",
      "Model:[465/500]\tAcc Score: 78.68\t Computing time: 0:00:00.000997\n",
      "Model:[466/500]\tAcc Score: 78.23\t Computing time: 0:00:00.000512\n",
      "Model:[467/500]\tAcc Score: 76.88\t Computing time: 0:00:00.000973\n",
      "Model:[468/500]\tAcc Score: 81.03\t Computing time: 0:00:00.000984\n",
      "Model:[469/500]\tAcc Score: 78.68\t Computing time: 0:00:00.001508\n",
      "Model:[470/500]\tAcc Score: 80.36\t Computing time: 0:00:00.000993\n",
      "Model:[471/500]\tAcc Score: 81.03\t Computing time: 0:00:00.000997\n",
      "Model:[472/500]\tAcc Score: 78.9\t Computing time: 0:00:00.001995\n",
      "Model:[473/500]\tAcc Score: 66.67\t Computing time: 0:00:00.000997\n",
      "Model:[474/500]\tAcc Score: 81.71\t Computing time: 0:00:00.000997\n",
      "Model:[475/500]\tAcc Score: 81.71\t Computing time: 0:00:00.001007\n",
      "Model:[476/500]\tAcc Score: 79.12\t Computing time: 0:00:00.000996\n",
      "Model:[477/500]\tAcc Score: 78.23\t Computing time: 0:00:00.000997\n",
      "Model:[478/500]\tAcc Score: 81.71\t Computing time: 0:00:00.000998\n",
      "Model:[479/500]\tAcc Score: 78.68\t Computing time: 0:00:00.000998\n",
      "Model:[480/500]\tAcc Score: 81.59\t Computing time: 0:00:00.001995\n",
      "Model:[481/500]\tAcc Score: 78.23\t Computing time: 0:00:00.001000\n",
      "Model:[482/500]\tAcc Score: 78.68\t Computing time: 0:00:00.000981\n",
      "Model:[483/500]\tAcc Score: 78.9\t Computing time: 0:00:00.000967\n",
      "Model:[484/500]\tAcc Score: 80.36\t Computing time: 0:00:00.000973\n",
      "Model:[485/500]\tAcc Score: 78.23\t Computing time: 0:00:00\n",
      "Model:[486/500]\tAcc Score: 81.71\t Computing time: 0:00:00.001021\n",
      "Model:[487/500]\tAcc Score: 78.68\t Computing time: 0:00:00.000999\n",
      "Model:[488/500]\tAcc Score: 79.01\t Computing time: 0:00:00.000996\n",
      "Model:[489/500]\tAcc Score: 78.68\t Computing time: 0:00:00.000998\n",
      "Model:[490/500]\tAcc Score: 78.68\t Computing time: 0:00:00.000977\n",
      "Model:[491/500]\tAcc Score: 78.68\t Computing time: 0:00:00.001000\n",
      "Model:[492/500]\tAcc Score: 83.16\t Computing time: 0:00:00.000995\n",
      "Model:[493/500]\tAcc Score: 78.68\t Computing time: 0:00:00.000997\n",
      "Model:[494/500]\tAcc Score: 78.68\t Computing time: 0:00:00.000997\n",
      "Model:[495/500]\tAcc Score: 78.9\t Computing time: 0:00:00.000997\n",
      "Model:[496/500]\tAcc Score: 80.02\t Computing time: 0:00:00.001980\n",
      "Model:[497/500]\tAcc Score: 78.23\t Computing time: 0:00:00.000973\n",
      "Model:[498/500]\tAcc Score: 80.36\t Computing time: 0:00:00.000973\n",
      "Model:[499/500]\tAcc Score: 70.37\t Computing time: 0:00:00.000974\n",
      "Model:[500/500]\tAcc Score: 81.37\t Computing time: 0:00:00.000997\n"
     ]
    },
    {
     "data": {
      "text/plain": [
       "DecisionTreeClassifier(ccp_alpha=0.0, class_weight=None, criterion='gini',\n",
       "                       max_depth=5.0, max_features=0.5, max_leaf_nodes=5,\n",
       "                       min_impurity_decrease=0.0, min_impurity_split=None,\n",
       "                       min_samples_leaf=6, min_samples_split=2,\n",
       "                       min_weight_fraction_leaf=0.0, presort='deprecated',\n",
       "                       random_state=None, splitter='best')"
      ]
     },
     "execution_count": 40,
     "metadata": {},
     "output_type": "execute_result"
    }
   ],
   "source": [
    "def train(model, train_data, train_target, file_name = None, params= None):\n",
    "    models_to_build = len(params)\n",
    "    print(f'***********Total models to build are: {models_to_build}**************')\n",
    "    scores = []\n",
    "    best_score = 0\n",
    "    for idx, parameter in enumerate(params):\n",
    "        max_depth, features, min_samples, max_leaf_node = parameter\n",
    "        model.max_depth= max_depth\n",
    "        model.max_features=features\n",
    "        model.min_samples_leaf=min_samples\n",
    "        model.max_leaf_nodes=int(max_leaf_node)\n",
    "        start_time = datetime.datetime.now()\n",
    "        model.fit(train_data, train_target)\n",
    "        end_time = datetime.datetime.now()\n",
    "#         predictions = model.predict(train_data)\n",
    "        acc = round(decision_tree.score(X_train, Y_train) * 100, 2)        \n",
    "        scores.append(acc)\n",
    "        text = f'Model:[{idx+1}/{models_to_build}]\\tAcc Score: {acc}\\t Computing time: {end_time-start_time}'\n",
    "        print(text)\n",
    "#         file_name = f'result/{file_name}.txt'\n",
    "#         with open(file_name, 'w') as f:\n",
    "#             f.write(text)\n",
    "#             f.write('\\n')\n",
    "#         file_name = file_name.split('.')[0] + '.sav'\n",
    "#         if best_score == 0:\n",
    "#             best_score = mse_score\n",
    "#             print('Best score achieved at: ',text)\n",
    "#             pickle.dump(reg_model, open(file_name, 'wb'))\n",
    "#         elif acc > best_score:\n",
    "#             best_score = acc\n",
    "#             print('Best score updated to: ',text)\n",
    "#             pickle.dump(model, open(file_name, 'wb'))\n",
    "#             print('Model saved at ', parameter)\n",
    "#     plot(data=scores, title_= 'Train model performance', x_name='Acc Score')\n",
    "    return model\n",
    "\n",
    "\n",
    "train(model=decision_tree,train_data=X_train, train_target=Y_train, params=parameters)"
   ]
  }
 ],
 "metadata": {
  "kernelspec": {
   "display_name": "Python 3",
   "language": "python",
   "name": "python3"
  },
  "language_info": {
   "codemirror_mode": {
    "name": "ipython",
    "version": 3
   },
   "file_extension": ".py",
   "mimetype": "text/x-python",
   "name": "python",
   "nbconvert_exporter": "python",
   "pygments_lexer": "ipython3",
   "version": "3.7.4"
  }
 },
 "nbformat": 4,
 "nbformat_minor": 2
}
