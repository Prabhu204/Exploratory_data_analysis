{
 "cells": [
  {
   "cell_type": "markdown",
   "metadata": {},
   "source": [
    "# Exercise 2"
   ]
  },
  {
   "cell_type": "markdown",
   "metadata": {},
   "source": [
    "##  Anything after the # is ignored by python."
   ]
  },
  {
   "cell_type": "code",
   "execution_count": 2,
   "metadata": {},
   "outputs": [
    {
     "name": "stdout",
     "output_type": "stream",
     "text": [
      "I could have code like this.\n"
     ]
    }
   ],
   "source": [
    "print(\"I could have code like this.\") # See what ever the text after '#' is ignored"
   ]
  },
  {
   "cell_type": "markdown",
   "metadata": {},
   "source": [
    "## Python 2’s print statement has been replaced by the print() function, meaning that we have to wrap the object that we want to print in parantheses."
   ]
  },
  {
   "cell_type": "code",
   "execution_count": 4,
   "metadata": {},
   "outputs": [
    {
     "ename": "SyntaxError",
     "evalue": "Missing parentheses in call to 'print'. Did you mean print(\"This won't run.\")? (<ipython-input-4-171d5c3bb011>, line 1)",
     "output_type": "error",
     "traceback": [
      "\u001b[1;36m  File \u001b[1;32m\"<ipython-input-4-171d5c3bb011>\"\u001b[1;36m, line \u001b[1;32m1\u001b[0m\n\u001b[1;33m    print \"This won't run.\"\u001b[0m\n\u001b[1;37m                          ^\u001b[0m\n\u001b[1;31mSyntaxError\u001b[0m\u001b[1;31m:\u001b[0m Missing parentheses in call to 'print'. Did you mean print(\"This won't run.\")?\n"
     ]
    }
   ],
   "source": [
    "print \"This won't run.\""
   ]
  },
  {
   "cell_type": "code",
   "execution_count": 7,
   "metadata": {},
   "outputs": [
    {
     "name": "stdout",
     "output_type": "stream",
     "text": [
      "This will run.\n"
     ]
    }
   ],
   "source": [
    "print(\"This will run.\")"
   ]
  },
  {
   "cell_type": "markdown",
   "metadata": {},
   "source": [
    "# Exercise 5"
   ]
  },
  {
   "cell_type": "markdown",
   "metadata": {},
   "source": [
    "## Defining variables in Python\n",
    "\n",
    "* You can use any letter, the special characters \"_\" and every number provided you do not start with it. \n",
    "\n",
    "* White spaces and signs with special meanings in Python, such  as \"+\" and \"-\" are not allowed. \n",
    "\n",
    "* I usually use lowercase with words separated by underscores as necessary to improve readability.\n",
    "\n",
    "* Remember that variable names are case sensitive. \n",
    "\n",
    "* Python is dynamically typed, which means that you don't have to declare what type each variable is.\n",
    "\n",
    "* In Python, variables are a storage placeholder for texts and numbers.\n",
    "\n",
    "* It must have a name so that you are able to find it again. \n",
    "\n",
    "* The variable is always assigned with the equal sign, followed by the value of the variable. \n",
    "\n",
    "* There are some reserved words for Python and can not be used as variable name.  \n",
    "\n",
    "* The variables are being referred in the program to get the value of it. \n",
    "\n",
    "* The value of the variable can be changed later on. "
   ]
  },
  {
   "cell_type": "markdown",
   "metadata": {},
   "source": [
    "## f-string\n",
    "\n",
    "* Python f-string is the newest Python syntax to do string formatting. It is available since Python 3.6. Python f-strings provide a faster, more readable, more concise, and less error prone way of formatting strings in Python.\n",
    "\n",
    "* The f-strings have the f prefix and use {} brackets to evaluate values.\n",
    "\n",
    "* Format specifiers for types, padding, or aligning are specified after the colon character; for instance: f\"{price:.3}\", where price is a variable name."
   ]
  },
  {
   "cell_type": "code",
   "execution_count": 76,
   "metadata": {},
   "outputs": [
    {
     "name": "stdout",
     "output_type": "stream",
     "text": [
      "Hello my name is Josh Archer\n"
     ]
    }
   ],
   "source": [
    "f_name = 'Josh Archer'\n",
    "print(f'Hello my name is {f_name}')"
   ]
  },
  {
   "cell_type": "markdown",
   "metadata": {},
   "source": [
    "## format()\n",
    "\n",
    "The format() method formats the specified values and insert them inside the string's placeholder. The placeholder is defined using curly brackets: {}. "
   ]
  },
  {
   "cell_type": "code",
   "execution_count": 77,
   "metadata": {},
   "outputs": [
    {
     "name": "stdout",
     "output_type": "stream",
     "text": [
      "My name is John, I'am 36\n",
      "My name is John, I'am 36\n",
      "My name is John, I'am 36\n"
     ]
    }
   ],
   "source": [
    "txt1 = \"My name is {fname}, I'am {age}\".format(fname = \"John\", age = 36)\n",
    "print(txt1)\n",
    "txt2 = \"My name is {0}, I'am {1}\".format(\"John\",36) # it is index based access i.e like a list ['John', 36] thats why you see 0 and 1 in string expression\n",
    "print(txt2)\n",
    "txt3 = \"My name is {}, I'am {}\".format(\"John\",36)\n",
    "print(txt3)"
   ]
  },
  {
   "cell_type": "markdown",
   "metadata": {},
   "source": [
    "### 1. Change all the variables so there is no my_ in front of each one. Make sure you change the name everywhere, not just where you used = to set them."
   ]
  },
  {
   "cell_type": "code",
   "execution_count": 33,
   "metadata": {},
   "outputs": [],
   "source": [
    "name = 'Josh Archer'\n",
    "age = 30\n",
    "height = 70 # inches \n",
    "weight = 65 # lbs\n",
    "eyes = 'hazel'\n",
    "teeth = 'white'\n",
    "hair = 'blue'"
   ]
  },
  {
   "cell_type": "code",
   "execution_count": 72,
   "metadata": {},
   "outputs": [
    {
     "name": "stdout",
     "output_type": "stream",
     "text": [
      "Let's talk about Josh Archer\n",
      "He's 70 inches tall.\n",
      "He weights 65 lbs.\n",
      "Actually that's not that heavy\n",
      "He's got hazel and blue.\n",
      "His teeth are always white as he doesn't drink coffee!\n"
     ]
    }
   ],
   "source": [
    "print(\"Let's talk about %s\" % (name))\n",
    "\n",
    "print(\"He's %d inches tall.\" % (height))\n",
    "\n",
    "print(\"He weights %d lbs.\" % (weight))\n",
    "\n",
    "print(\"Actually that's not that heavy\")\n",
    "\n",
    "print(\"He's got %s and %s.\" %(eyes, hair))\n",
    "\n",
    "print(\"His teeth are always %s as he doesn't drink coffee!\" % (teeth))"
   ]
  },
  {
   "cell_type": "code",
   "execution_count": 35,
   "metadata": {},
   "outputs": [
    {
     "name": "stdout",
     "output_type": "stream",
     "text": [
      "If I add 30, 70, and 65 I get 165.\n"
     ]
    }
   ],
   "source": [
    "print(f\"If I add {age}, {height}, and {weight} I get {age+height+weight}.\")"
   ]
  },
  {
   "cell_type": "markdown",
   "metadata": {},
   "source": [
    "###  2. Try more format characters. {!r} is a very useful one. It's like saying \"print this no matter what.\""
   ]
  },
  {
   "cell_type": "markdown",
   "metadata": {},
   "source": [
    "%r has changed to {!r} in Python 3\n",
    "\n",
    "#### Strings\n",
    "* %r used for strings\n",
    "* %s also used for strings\n",
    "* %a used for printing stings in ascii format\n"
   ]
  },
  {
   "cell_type": "markdown",
   "metadata": {},
   "source": [
    "#### Difference between %s and %r in Python\n",
    "\n",
    "Both are special methods that return strings based on the state of the object. Below example shows you difference:"
   ]
  },
  {
   "cell_type": "code",
   "execution_count": 79,
   "metadata": {},
   "outputs": [
    {
     "name": "stdout",
     "output_type": "stream",
     "text": [
      "'München'\n",
      "'M\\xfcnchen'\n"
     ]
    }
   ],
   "source": [
    "print('{!r}'.format('München'))\n",
    "print('{!a}'.format('München'))"
   ]
  },
  {
   "cell_type": "code",
   "execution_count": 82,
   "metadata": {},
   "outputs": [
    {
     "name": "stdout",
     "output_type": "stream",
     "text": [
      "datetime.datetime(2020, 4, 14, 20, 51, 16, 826780)\n",
      "2020-04-14 20:51:16.827776\n"
     ]
    }
   ],
   "source": [
    "# second example on %r and %s\n",
    "import datetime\n",
    "\n",
    "print('{!r}'.format(datetime.datetime.now())) # %r is not human readale format\n",
    "print('{!s}'.format(datetime.datetime.now())) # it is human readale format"
   ]
  },
  {
   "cell_type": "markdown",
   "metadata": {},
   "source": [
    "### 3. Search online for all of the Python format characters."
   ]
  },
  {
   "cell_type": "markdown",
   "metadata": {},
   "source": [
    "#### Padding and aligning strings\n",
    "\n",
    "By default values are formatted to print only its content. It is however also possible to define that a value should be padded to a specific length(i.e adding extra space left or right of the value)."
   ]
  },
  {
   "cell_type": "code",
   "execution_count": 55,
   "metadata": {},
   "outputs": [
    {
     "name": "stdout",
     "output_type": "stream",
     "text": [
      "      test,I like it.\n",
      "test      ,I like it.\n"
     ]
    }
   ],
   "source": [
    "print('{:>10},I like it.'.format('test')) # adding extra space left of the value\n",
    "print('{:10},I like it.'.format('test')) # adding extra space right of the value"
   ]
  },
  {
   "cell_type": "markdown",
   "metadata": {},
   "source": [
    "#### Truncating long strings\n",
    "\n",
    "it is also possible to truncate overly long values to a specific number of characters."
   ]
  },
  {
   "cell_type": "code",
   "execution_count": 56,
   "metadata": {},
   "outputs": [
    {
     "name": "stdout",
     "output_type": "stream",
     "text": [
      "xylop\n"
     ]
    }
   ],
   "source": [
    "print('{:.5}'.format('xylophone'))"
   ]
  },
  {
   "cell_type": "markdown",
   "metadata": {},
   "source": [
    "#### Numbers\n",
    "\n",
    "* %d integers\n",
    "* %f floats\n",
    "* %.2f limits float value upto 2 decimals if it is %.3f means limits floatvaues upto 3 decimals"
   ]
  },
  {
   "cell_type": "code",
   "execution_count": 61,
   "metadata": {},
   "outputs": [
    {
     "name": "stdout",
     "output_type": "stream",
     "text": [
      "3\n"
     ]
    }
   ],
   "source": [
    "print('%d' %(3.141592653589793))"
   ]
  },
  {
   "cell_type": "code",
   "execution_count": 62,
   "metadata": {},
   "outputs": [
    {
     "name": "stdout",
     "output_type": "stream",
     "text": [
      "3.141593\n"
     ]
    }
   ],
   "source": [
    "print('%f' %(3.141592653589793))"
   ]
  },
  {
   "cell_type": "code",
   "execution_count": 63,
   "metadata": {},
   "outputs": [
    {
     "name": "stdout",
     "output_type": "stream",
     "text": [
      "3.142\n"
     ]
    }
   ],
   "source": [
    "print('%.3f' %(3.141592653589793))"
   ]
  },
  {
   "cell_type": "markdown",
   "metadata": {},
   "source": [
    "### 4.Try to write some variables that convert the inches and pounds to centimeters and kilograms."
   ]
  },
  {
   "cell_type": "code",
   "execution_count": 36,
   "metadata": {},
   "outputs": [],
   "source": [
    "kilos = weight*0.45359 \n",
    "centimeters = height*2.54"
   ]
  },
  {
   "cell_type": "code",
   "execution_count": 37,
   "metadata": {},
   "outputs": [
    {
     "name": "stdout",
     "output_type": "stream",
     "text": [
      "He's 177.8 centimeters tall.\n",
      "He weights 29.483349999999998 kilos.\n"
     ]
    }
   ],
   "source": [
    "print(f\"He's {centimeters} centimeters tall.\")\n",
    "\n",
    "print(f\"He weights {kilos} kilos.\")"
   ]
  },
  {
   "cell_type": "code",
   "execution_count": 14,
   "metadata": {},
   "outputs": [
    {
     "name": "stdout",
     "output_type": "stream",
     "text": [
      "His teeth are always white as he doesn't drink coffee!\n"
     ]
    }
   ],
   "source": [
    "print(f\"If I add {age}, {height}, and {weight} I get {age+height+weight}.\")"
   ]
  },
  {
   "cell_type": "code",
   "execution_count": null,
   "metadata": {},
   "outputs": [],
   "source": []
  }
 ],
 "metadata": {
  "kernelspec": {
   "display_name": "Python 3",
   "language": "python",
   "name": "python3"
  },
  "language_info": {
   "codemirror_mode": {
    "name": "ipython",
    "version": 3
   },
   "file_extension": ".py",
   "mimetype": "text/x-python",
   "name": "python",
   "nbconvert_exporter": "python",
   "pygments_lexer": "ipython3",
   "version": "3.7.4"
  }
 },
 "nbformat": 4,
 "nbformat_minor": 2
}
